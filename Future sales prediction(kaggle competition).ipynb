{
 "cells": [
  {
   "cell_type": "code",
   "execution_count": 167,
   "id": "daffa15a",
   "metadata": {},
   "outputs": [],
   "source": [
    "import numpy as np \n",
    "import pandas as pd \n",
    "import seaborn as sns\n",
    "import matplotlib.pyplot as plt\n",
    "import datetime \n",
    "import warnings\n",
    "import csv\n",
    "warnings.simplefilter(action='ignore', category=FutureWarning)\n",
    "from lightgbm import LGBMRegressor\n",
    "from sklearn.model_selection import train_test_split\n",
    "from xgboost import XGBClassifier\n",
    "import os\n",
    "for dirname, _, filenames in os.walk('/kaggle/input'):\n",
    "    for filename in filenames:\n",
    "        print(os.path.join(dirname, filename))\n"
   ]
  },
  {
   "cell_type": "markdown",
   "id": "a5252fd0",
   "metadata": {},
   "source": [
    "#### Import data"
   ]
  },
  {
   "cell_type": "code",
   "execution_count": 168,
   "id": "5c6fca17",
   "metadata": {},
   "outputs": [],
   "source": [
    "items = pd.read_csv('items.csv')\n",
    "items_cat = pd.read_csv('item_categories.csv')\n",
    "sales_train = pd.read_csv('sales_train.csv')\n",
    "sales_test = pd.read_csv('test.csv')\n",
    "shops  = pd.read_csv('shops.csv')"
   ]
  },
  {
   "cell_type": "markdown",
   "id": "801ffca6",
   "metadata": {},
   "source": [
    "#### Data cleaning and exploration"
   ]
  },
  {
   "cell_type": "code",
   "execution_count": 169,
   "id": "96aee495",
   "metadata": {},
   "outputs": [
    {
     "data": {
      "text/plain": [
       "(2935849, 6)"
      ]
     },
     "execution_count": 169,
     "metadata": {},
     "output_type": "execute_result"
    }
   ],
   "source": [
    "sales_train.shape"
   ]
  },
  {
   "cell_type": "code",
   "execution_count": 170,
   "id": "76a9c5f8",
   "metadata": {},
   "outputs": [
    {
     "data": {
      "text/plain": [
       "Index(['shop_name', 'shop_id'], dtype='object')"
      ]
     },
     "execution_count": 170,
     "metadata": {},
     "output_type": "execute_result"
    }
   ],
   "source": [
    "shops.columns"
   ]
  },
  {
   "cell_type": "code",
   "execution_count": 171,
   "id": "1e3a60fc",
   "metadata": {},
   "outputs": [
    {
     "data": {
      "text/plain": [
       "(214200, 3)"
      ]
     },
     "execution_count": 171,
     "metadata": {},
     "output_type": "execute_result"
    }
   ],
   "source": [
    "sales_test.shape"
   ]
  },
  {
   "cell_type": "code",
   "execution_count": 172,
   "id": "20a35c5f",
   "metadata": {
    "scrolled": true
   },
   "outputs": [
    {
     "data": {
      "text/html": [
       "<div>\n",
       "<style scoped>\n",
       "    .dataframe tbody tr th:only-of-type {\n",
       "        vertical-align: middle;\n",
       "    }\n",
       "\n",
       "    .dataframe tbody tr th {\n",
       "        vertical-align: top;\n",
       "    }\n",
       "\n",
       "    .dataframe thead th {\n",
       "        text-align: right;\n",
       "    }\n",
       "</style>\n",
       "<table border=\"1\" class=\"dataframe\">\n",
       "  <thead>\n",
       "    <tr style=\"text-align: right;\">\n",
       "      <th></th>\n",
       "      <th>date</th>\n",
       "      <th>date_block_num</th>\n",
       "      <th>shop_id</th>\n",
       "      <th>item_id</th>\n",
       "      <th>item_price</th>\n",
       "      <th>item_cnt_day</th>\n",
       "    </tr>\n",
       "  </thead>\n",
       "  <tbody>\n",
       "    <tr>\n",
       "      <th>0</th>\n",
       "      <td>02.01.2013</td>\n",
       "      <td>0</td>\n",
       "      <td>59</td>\n",
       "      <td>22154</td>\n",
       "      <td>999.00</td>\n",
       "      <td>1.0</td>\n",
       "    </tr>\n",
       "    <tr>\n",
       "      <th>1</th>\n",
       "      <td>03.01.2013</td>\n",
       "      <td>0</td>\n",
       "      <td>25</td>\n",
       "      <td>2552</td>\n",
       "      <td>899.00</td>\n",
       "      <td>1.0</td>\n",
       "    </tr>\n",
       "    <tr>\n",
       "      <th>2</th>\n",
       "      <td>05.01.2013</td>\n",
       "      <td>0</td>\n",
       "      <td>25</td>\n",
       "      <td>2552</td>\n",
       "      <td>899.00</td>\n",
       "      <td>-1.0</td>\n",
       "    </tr>\n",
       "    <tr>\n",
       "      <th>3</th>\n",
       "      <td>06.01.2013</td>\n",
       "      <td>0</td>\n",
       "      <td>25</td>\n",
       "      <td>2554</td>\n",
       "      <td>1709.05</td>\n",
       "      <td>1.0</td>\n",
       "    </tr>\n",
       "    <tr>\n",
       "      <th>4</th>\n",
       "      <td>15.01.2013</td>\n",
       "      <td>0</td>\n",
       "      <td>25</td>\n",
       "      <td>2555</td>\n",
       "      <td>1099.00</td>\n",
       "      <td>1.0</td>\n",
       "    </tr>\n",
       "    <tr>\n",
       "      <th>...</th>\n",
       "      <td>...</td>\n",
       "      <td>...</td>\n",
       "      <td>...</td>\n",
       "      <td>...</td>\n",
       "      <td>...</td>\n",
       "      <td>...</td>\n",
       "    </tr>\n",
       "    <tr>\n",
       "      <th>2935844</th>\n",
       "      <td>10.10.2015</td>\n",
       "      <td>33</td>\n",
       "      <td>25</td>\n",
       "      <td>7409</td>\n",
       "      <td>299.00</td>\n",
       "      <td>1.0</td>\n",
       "    </tr>\n",
       "    <tr>\n",
       "      <th>2935845</th>\n",
       "      <td>09.10.2015</td>\n",
       "      <td>33</td>\n",
       "      <td>25</td>\n",
       "      <td>7460</td>\n",
       "      <td>299.00</td>\n",
       "      <td>1.0</td>\n",
       "    </tr>\n",
       "    <tr>\n",
       "      <th>2935846</th>\n",
       "      <td>14.10.2015</td>\n",
       "      <td>33</td>\n",
       "      <td>25</td>\n",
       "      <td>7459</td>\n",
       "      <td>349.00</td>\n",
       "      <td>1.0</td>\n",
       "    </tr>\n",
       "    <tr>\n",
       "      <th>2935847</th>\n",
       "      <td>22.10.2015</td>\n",
       "      <td>33</td>\n",
       "      <td>25</td>\n",
       "      <td>7440</td>\n",
       "      <td>299.00</td>\n",
       "      <td>1.0</td>\n",
       "    </tr>\n",
       "    <tr>\n",
       "      <th>2935848</th>\n",
       "      <td>03.10.2015</td>\n",
       "      <td>33</td>\n",
       "      <td>25</td>\n",
       "      <td>7460</td>\n",
       "      <td>299.00</td>\n",
       "      <td>1.0</td>\n",
       "    </tr>\n",
       "  </tbody>\n",
       "</table>\n",
       "<p>2935849 rows × 6 columns</p>\n",
       "</div>"
      ],
      "text/plain": [
       "               date  date_block_num  shop_id  item_id  item_price  \\\n",
       "0        02.01.2013               0       59    22154      999.00   \n",
       "1        03.01.2013               0       25     2552      899.00   \n",
       "2        05.01.2013               0       25     2552      899.00   \n",
       "3        06.01.2013               0       25     2554     1709.05   \n",
       "4        15.01.2013               0       25     2555     1099.00   \n",
       "...             ...             ...      ...      ...         ...   \n",
       "2935844  10.10.2015              33       25     7409      299.00   \n",
       "2935845  09.10.2015              33       25     7460      299.00   \n",
       "2935846  14.10.2015              33       25     7459      349.00   \n",
       "2935847  22.10.2015              33       25     7440      299.00   \n",
       "2935848  03.10.2015              33       25     7460      299.00   \n",
       "\n",
       "         item_cnt_day  \n",
       "0                 1.0  \n",
       "1                 1.0  \n",
       "2                -1.0  \n",
       "3                 1.0  \n",
       "4                 1.0  \n",
       "...               ...  \n",
       "2935844           1.0  \n",
       "2935845           1.0  \n",
       "2935846           1.0  \n",
       "2935847           1.0  \n",
       "2935848           1.0  \n",
       "\n",
       "[2935849 rows x 6 columns]"
      ]
     },
     "metadata": {},
     "output_type": "display_data"
    },
    {
     "data": {
      "text/html": [
       "<div>\n",
       "<style scoped>\n",
       "    .dataframe tbody tr th:only-of-type {\n",
       "        vertical-align: middle;\n",
       "    }\n",
       "\n",
       "    .dataframe tbody tr th {\n",
       "        vertical-align: top;\n",
       "    }\n",
       "\n",
       "    .dataframe thead th {\n",
       "        text-align: right;\n",
       "    }\n",
       "</style>\n",
       "<table border=\"1\" class=\"dataframe\">\n",
       "  <thead>\n",
       "    <tr style=\"text-align: right;\">\n",
       "      <th></th>\n",
       "      <th>item_category_name</th>\n",
       "      <th>item_category_id</th>\n",
       "    </tr>\n",
       "  </thead>\n",
       "  <tbody>\n",
       "    <tr>\n",
       "      <th>0</th>\n",
       "      <td>PC - Гарнитуры/Наушники</td>\n",
       "      <td>0</td>\n",
       "    </tr>\n",
       "    <tr>\n",
       "      <th>1</th>\n",
       "      <td>Аксессуары - PS2</td>\n",
       "      <td>1</td>\n",
       "    </tr>\n",
       "    <tr>\n",
       "      <th>2</th>\n",
       "      <td>Аксессуары - PS3</td>\n",
       "      <td>2</td>\n",
       "    </tr>\n",
       "    <tr>\n",
       "      <th>3</th>\n",
       "      <td>Аксессуары - PS4</td>\n",
       "      <td>3</td>\n",
       "    </tr>\n",
       "    <tr>\n",
       "      <th>4</th>\n",
       "      <td>Аксессуары - PSP</td>\n",
       "      <td>4</td>\n",
       "    </tr>\n",
       "    <tr>\n",
       "      <th>...</th>\n",
       "      <td>...</td>\n",
       "      <td>...</td>\n",
       "    </tr>\n",
       "    <tr>\n",
       "      <th>79</th>\n",
       "      <td>Служебные</td>\n",
       "      <td>79</td>\n",
       "    </tr>\n",
       "    <tr>\n",
       "      <th>80</th>\n",
       "      <td>Служебные - Билеты</td>\n",
       "      <td>80</td>\n",
       "    </tr>\n",
       "    <tr>\n",
       "      <th>81</th>\n",
       "      <td>Чистые носители (шпиль)</td>\n",
       "      <td>81</td>\n",
       "    </tr>\n",
       "    <tr>\n",
       "      <th>82</th>\n",
       "      <td>Чистые носители (штучные)</td>\n",
       "      <td>82</td>\n",
       "    </tr>\n",
       "    <tr>\n",
       "      <th>83</th>\n",
       "      <td>Элементы питания</td>\n",
       "      <td>83</td>\n",
       "    </tr>\n",
       "  </tbody>\n",
       "</table>\n",
       "<p>84 rows × 2 columns</p>\n",
       "</div>"
      ],
      "text/plain": [
       "           item_category_name  item_category_id\n",
       "0     PC - Гарнитуры/Наушники                 0\n",
       "1            Аксессуары - PS2                 1\n",
       "2            Аксессуары - PS3                 2\n",
       "3            Аксессуары - PS4                 3\n",
       "4            Аксессуары - PSP                 4\n",
       "..                        ...               ...\n",
       "79                  Служебные                79\n",
       "80         Служебные - Билеты                80\n",
       "81    Чистые носители (шпиль)                81\n",
       "82  Чистые носители (штучные)                82\n",
       "83           Элементы питания                83\n",
       "\n",
       "[84 rows x 2 columns]"
      ]
     },
     "metadata": {},
     "output_type": "display_data"
    },
    {
     "data": {
      "text/html": [
       "<div>\n",
       "<style scoped>\n",
       "    .dataframe tbody tr th:only-of-type {\n",
       "        vertical-align: middle;\n",
       "    }\n",
       "\n",
       "    .dataframe tbody tr th {\n",
       "        vertical-align: top;\n",
       "    }\n",
       "\n",
       "    .dataframe thead th {\n",
       "        text-align: right;\n",
       "    }\n",
       "</style>\n",
       "<table border=\"1\" class=\"dataframe\">\n",
       "  <thead>\n",
       "    <tr style=\"text-align: right;\">\n",
       "      <th></th>\n",
       "      <th>item_name</th>\n",
       "      <th>item_id</th>\n",
       "      <th>item_category_id</th>\n",
       "    </tr>\n",
       "  </thead>\n",
       "  <tbody>\n",
       "    <tr>\n",
       "      <th>0</th>\n",
       "      <td>! ВО ВЛАСТИ НАВАЖДЕНИЯ (ПЛАСТ.)         D</td>\n",
       "      <td>0</td>\n",
       "      <td>40</td>\n",
       "    </tr>\n",
       "    <tr>\n",
       "      <th>1</th>\n",
       "      <td>!ABBYY FineReader 12 Professional Edition Full...</td>\n",
       "      <td>1</td>\n",
       "      <td>76</td>\n",
       "    </tr>\n",
       "    <tr>\n",
       "      <th>2</th>\n",
       "      <td>***В ЛУЧАХ СЛАВЫ   (UNV)                    D</td>\n",
       "      <td>2</td>\n",
       "      <td>40</td>\n",
       "    </tr>\n",
       "    <tr>\n",
       "      <th>3</th>\n",
       "      <td>***ГОЛУБАЯ ВОЛНА  (Univ)                      D</td>\n",
       "      <td>3</td>\n",
       "      <td>40</td>\n",
       "    </tr>\n",
       "    <tr>\n",
       "      <th>4</th>\n",
       "      <td>***КОРОБКА (СТЕКЛО)                       D</td>\n",
       "      <td>4</td>\n",
       "      <td>40</td>\n",
       "    </tr>\n",
       "    <tr>\n",
       "      <th>...</th>\n",
       "      <td>...</td>\n",
       "      <td>...</td>\n",
       "      <td>...</td>\n",
       "    </tr>\n",
       "    <tr>\n",
       "      <th>22165</th>\n",
       "      <td>Ядерный титбит 2 [PC, Цифровая версия]</td>\n",
       "      <td>22165</td>\n",
       "      <td>31</td>\n",
       "    </tr>\n",
       "    <tr>\n",
       "      <th>22166</th>\n",
       "      <td>Язык запросов 1С:Предприятия  [Цифровая версия]</td>\n",
       "      <td>22166</td>\n",
       "      <td>54</td>\n",
       "    </tr>\n",
       "    <tr>\n",
       "      <th>22167</th>\n",
       "      <td>Язык запросов 1С:Предприятия 8 (+CD). Хрустале...</td>\n",
       "      <td>22167</td>\n",
       "      <td>49</td>\n",
       "    </tr>\n",
       "    <tr>\n",
       "      <th>22168</th>\n",
       "      <td>Яйцо для Little Inu</td>\n",
       "      <td>22168</td>\n",
       "      <td>62</td>\n",
       "    </tr>\n",
       "    <tr>\n",
       "      <th>22169</th>\n",
       "      <td>Яйцо дракона (Игра престолов)</td>\n",
       "      <td>22169</td>\n",
       "      <td>69</td>\n",
       "    </tr>\n",
       "  </tbody>\n",
       "</table>\n",
       "<p>22170 rows × 3 columns</p>\n",
       "</div>"
      ],
      "text/plain": [
       "                                               item_name  item_id  \\\n",
       "0              ! ВО ВЛАСТИ НАВАЖДЕНИЯ (ПЛАСТ.)         D        0   \n",
       "1      !ABBYY FineReader 12 Professional Edition Full...        1   \n",
       "2          ***В ЛУЧАХ СЛАВЫ   (UNV)                    D        2   \n",
       "3        ***ГОЛУБАЯ ВОЛНА  (Univ)                      D        3   \n",
       "4            ***КОРОБКА (СТЕКЛО)                       D        4   \n",
       "...                                                  ...      ...   \n",
       "22165             Ядерный титбит 2 [PC, Цифровая версия]    22165   \n",
       "22166    Язык запросов 1С:Предприятия  [Цифровая версия]    22166   \n",
       "22167  Язык запросов 1С:Предприятия 8 (+CD). Хрустале...    22167   \n",
       "22168                                Яйцо для Little Inu    22168   \n",
       "22169                      Яйцо дракона (Игра престолов)    22169   \n",
       "\n",
       "       item_category_id  \n",
       "0                    40  \n",
       "1                    76  \n",
       "2                    40  \n",
       "3                    40  \n",
       "4                    40  \n",
       "...                 ...  \n",
       "22165                31  \n",
       "22166                54  \n",
       "22167                49  \n",
       "22168                62  \n",
       "22169                69  \n",
       "\n",
       "[22170 rows x 3 columns]"
      ]
     },
     "metadata": {},
     "output_type": "display_data"
    },
    {
     "data": {
      "text/html": [
       "<div>\n",
       "<style scoped>\n",
       "    .dataframe tbody tr th:only-of-type {\n",
       "        vertical-align: middle;\n",
       "    }\n",
       "\n",
       "    .dataframe tbody tr th {\n",
       "        vertical-align: top;\n",
       "    }\n",
       "\n",
       "    .dataframe thead th {\n",
       "        text-align: right;\n",
       "    }\n",
       "</style>\n",
       "<table border=\"1\" class=\"dataframe\">\n",
       "  <thead>\n",
       "    <tr style=\"text-align: right;\">\n",
       "      <th></th>\n",
       "      <th>shop_name</th>\n",
       "      <th>shop_id</th>\n",
       "    </tr>\n",
       "  </thead>\n",
       "  <tbody>\n",
       "    <tr>\n",
       "      <th>0</th>\n",
       "      <td>!Якутск Орджоникидзе, 56 фран</td>\n",
       "      <td>0</td>\n",
       "    </tr>\n",
       "    <tr>\n",
       "      <th>1</th>\n",
       "      <td>!Якутск ТЦ \"Центральный\" фран</td>\n",
       "      <td>1</td>\n",
       "    </tr>\n",
       "    <tr>\n",
       "      <th>2</th>\n",
       "      <td>Адыгея ТЦ \"Мега\"</td>\n",
       "      <td>2</td>\n",
       "    </tr>\n",
       "    <tr>\n",
       "      <th>3</th>\n",
       "      <td>Балашиха ТРК \"Октябрь-Киномир\"</td>\n",
       "      <td>3</td>\n",
       "    </tr>\n",
       "    <tr>\n",
       "      <th>4</th>\n",
       "      <td>Волжский ТЦ \"Волга Молл\"</td>\n",
       "      <td>4</td>\n",
       "    </tr>\n",
       "    <tr>\n",
       "      <th>5</th>\n",
       "      <td>Вологда ТРЦ \"Мармелад\"</td>\n",
       "      <td>5</td>\n",
       "    </tr>\n",
       "    <tr>\n",
       "      <th>6</th>\n",
       "      <td>Воронеж (Плехановская, 13)</td>\n",
       "      <td>6</td>\n",
       "    </tr>\n",
       "    <tr>\n",
       "      <th>7</th>\n",
       "      <td>Воронеж ТРЦ \"Максимир\"</td>\n",
       "      <td>7</td>\n",
       "    </tr>\n",
       "    <tr>\n",
       "      <th>8</th>\n",
       "      <td>Воронеж ТРЦ Сити-Парк \"Град\"</td>\n",
       "      <td>8</td>\n",
       "    </tr>\n",
       "    <tr>\n",
       "      <th>9</th>\n",
       "      <td>Выездная Торговля</td>\n",
       "      <td>9</td>\n",
       "    </tr>\n",
       "    <tr>\n",
       "      <th>10</th>\n",
       "      <td>Жуковский ул. Чкалова 39м?</td>\n",
       "      <td>10</td>\n",
       "    </tr>\n",
       "    <tr>\n",
       "      <th>11</th>\n",
       "      <td>Жуковский ул. Чкалова 39м²</td>\n",
       "      <td>11</td>\n",
       "    </tr>\n",
       "    <tr>\n",
       "      <th>12</th>\n",
       "      <td>Интернет-магазин ЧС</td>\n",
       "      <td>12</td>\n",
       "    </tr>\n",
       "    <tr>\n",
       "      <th>13</th>\n",
       "      <td>Казань ТЦ \"Бехетле\"</td>\n",
       "      <td>13</td>\n",
       "    </tr>\n",
       "    <tr>\n",
       "      <th>14</th>\n",
       "      <td>Казань ТЦ \"ПаркХаус\" II</td>\n",
       "      <td>14</td>\n",
       "    </tr>\n",
       "    <tr>\n",
       "      <th>15</th>\n",
       "      <td>Калуга ТРЦ \"XXI век\"</td>\n",
       "      <td>15</td>\n",
       "    </tr>\n",
       "    <tr>\n",
       "      <th>16</th>\n",
       "      <td>Коломна ТЦ \"Рио\"</td>\n",
       "      <td>16</td>\n",
       "    </tr>\n",
       "    <tr>\n",
       "      <th>17</th>\n",
       "      <td>Красноярск ТЦ \"Взлетка Плаза\"</td>\n",
       "      <td>17</td>\n",
       "    </tr>\n",
       "    <tr>\n",
       "      <th>18</th>\n",
       "      <td>Красноярск ТЦ \"Июнь\"</td>\n",
       "      <td>18</td>\n",
       "    </tr>\n",
       "    <tr>\n",
       "      <th>19</th>\n",
       "      <td>Курск ТЦ \"Пушкинский\"</td>\n",
       "      <td>19</td>\n",
       "    </tr>\n",
       "    <tr>\n",
       "      <th>20</th>\n",
       "      <td>Москва \"Распродажа\"</td>\n",
       "      <td>20</td>\n",
       "    </tr>\n",
       "    <tr>\n",
       "      <th>21</th>\n",
       "      <td>Москва МТРЦ \"Афи Молл\"</td>\n",
       "      <td>21</td>\n",
       "    </tr>\n",
       "    <tr>\n",
       "      <th>22</th>\n",
       "      <td>Москва Магазин С21</td>\n",
       "      <td>22</td>\n",
       "    </tr>\n",
       "    <tr>\n",
       "      <th>23</th>\n",
       "      <td>Москва ТК \"Буденовский\" (пав.А2)</td>\n",
       "      <td>23</td>\n",
       "    </tr>\n",
       "    <tr>\n",
       "      <th>24</th>\n",
       "      <td>Москва ТК \"Буденовский\" (пав.К7)</td>\n",
       "      <td>24</td>\n",
       "    </tr>\n",
       "    <tr>\n",
       "      <th>25</th>\n",
       "      <td>Москва ТРК \"Атриум\"</td>\n",
       "      <td>25</td>\n",
       "    </tr>\n",
       "    <tr>\n",
       "      <th>26</th>\n",
       "      <td>Москва ТЦ \"Ареал\" (Беляево)</td>\n",
       "      <td>26</td>\n",
       "    </tr>\n",
       "    <tr>\n",
       "      <th>27</th>\n",
       "      <td>Москва ТЦ \"МЕГА Белая Дача II\"</td>\n",
       "      <td>27</td>\n",
       "    </tr>\n",
       "    <tr>\n",
       "      <th>28</th>\n",
       "      <td>Москва ТЦ \"МЕГА Теплый Стан\" II</td>\n",
       "      <td>28</td>\n",
       "    </tr>\n",
       "    <tr>\n",
       "      <th>29</th>\n",
       "      <td>Москва ТЦ \"Новый век\" (Новокосино)</td>\n",
       "      <td>29</td>\n",
       "    </tr>\n",
       "    <tr>\n",
       "      <th>30</th>\n",
       "      <td>Москва ТЦ \"Перловский\"</td>\n",
       "      <td>30</td>\n",
       "    </tr>\n",
       "    <tr>\n",
       "      <th>31</th>\n",
       "      <td>Москва ТЦ \"Семеновский\"</td>\n",
       "      <td>31</td>\n",
       "    </tr>\n",
       "    <tr>\n",
       "      <th>32</th>\n",
       "      <td>Москва ТЦ \"Серебряный Дом\"</td>\n",
       "      <td>32</td>\n",
       "    </tr>\n",
       "    <tr>\n",
       "      <th>33</th>\n",
       "      <td>Мытищи ТРК \"XL-3\"</td>\n",
       "      <td>33</td>\n",
       "    </tr>\n",
       "    <tr>\n",
       "      <th>34</th>\n",
       "      <td>Н.Новгород ТРЦ \"РИО\"</td>\n",
       "      <td>34</td>\n",
       "    </tr>\n",
       "    <tr>\n",
       "      <th>35</th>\n",
       "      <td>Н.Новгород ТРЦ \"Фантастика\"</td>\n",
       "      <td>35</td>\n",
       "    </tr>\n",
       "    <tr>\n",
       "      <th>36</th>\n",
       "      <td>Новосибирск ТРЦ \"Галерея Новосибирск\"</td>\n",
       "      <td>36</td>\n",
       "    </tr>\n",
       "    <tr>\n",
       "      <th>37</th>\n",
       "      <td>Новосибирск ТЦ \"Мега\"</td>\n",
       "      <td>37</td>\n",
       "    </tr>\n",
       "    <tr>\n",
       "      <th>38</th>\n",
       "      <td>Омск ТЦ \"Мега\"</td>\n",
       "      <td>38</td>\n",
       "    </tr>\n",
       "    <tr>\n",
       "      <th>39</th>\n",
       "      <td>РостовНаДону ТРК \"Мегацентр Горизонт\"</td>\n",
       "      <td>39</td>\n",
       "    </tr>\n",
       "    <tr>\n",
       "      <th>40</th>\n",
       "      <td>РостовНаДону ТРК \"Мегацентр Горизонт\" Островной</td>\n",
       "      <td>40</td>\n",
       "    </tr>\n",
       "    <tr>\n",
       "      <th>41</th>\n",
       "      <td>РостовНаДону ТЦ \"Мега\"</td>\n",
       "      <td>41</td>\n",
       "    </tr>\n",
       "    <tr>\n",
       "      <th>42</th>\n",
       "      <td>СПб ТК \"Невский Центр\"</td>\n",
       "      <td>42</td>\n",
       "    </tr>\n",
       "    <tr>\n",
       "      <th>43</th>\n",
       "      <td>СПб ТК \"Сенная\"</td>\n",
       "      <td>43</td>\n",
       "    </tr>\n",
       "    <tr>\n",
       "      <th>44</th>\n",
       "      <td>Самара ТЦ \"Мелодия\"</td>\n",
       "      <td>44</td>\n",
       "    </tr>\n",
       "    <tr>\n",
       "      <th>45</th>\n",
       "      <td>Самара ТЦ \"ПаркХаус\"</td>\n",
       "      <td>45</td>\n",
       "    </tr>\n",
       "    <tr>\n",
       "      <th>46</th>\n",
       "      <td>Сергиев Посад ТЦ \"7Я\"</td>\n",
       "      <td>46</td>\n",
       "    </tr>\n",
       "    <tr>\n",
       "      <th>47</th>\n",
       "      <td>Сургут ТРЦ \"Сити Молл\"</td>\n",
       "      <td>47</td>\n",
       "    </tr>\n",
       "    <tr>\n",
       "      <th>48</th>\n",
       "      <td>Томск ТРЦ \"Изумрудный Город\"</td>\n",
       "      <td>48</td>\n",
       "    </tr>\n",
       "    <tr>\n",
       "      <th>49</th>\n",
       "      <td>Тюмень ТРЦ \"Кристалл\"</td>\n",
       "      <td>49</td>\n",
       "    </tr>\n",
       "    <tr>\n",
       "      <th>50</th>\n",
       "      <td>Тюмень ТЦ \"Гудвин\"</td>\n",
       "      <td>50</td>\n",
       "    </tr>\n",
       "    <tr>\n",
       "      <th>51</th>\n",
       "      <td>Тюмень ТЦ \"Зеленый Берег\"</td>\n",
       "      <td>51</td>\n",
       "    </tr>\n",
       "    <tr>\n",
       "      <th>52</th>\n",
       "      <td>Уфа ТК \"Центральный\"</td>\n",
       "      <td>52</td>\n",
       "    </tr>\n",
       "    <tr>\n",
       "      <th>53</th>\n",
       "      <td>Уфа ТЦ \"Семья\" 2</td>\n",
       "      <td>53</td>\n",
       "    </tr>\n",
       "    <tr>\n",
       "      <th>54</th>\n",
       "      <td>Химки ТЦ \"Мега\"</td>\n",
       "      <td>54</td>\n",
       "    </tr>\n",
       "    <tr>\n",
       "      <th>55</th>\n",
       "      <td>Цифровой склад 1С-Онлайн</td>\n",
       "      <td>55</td>\n",
       "    </tr>\n",
       "    <tr>\n",
       "      <th>56</th>\n",
       "      <td>Чехов ТРЦ \"Карнавал\"</td>\n",
       "      <td>56</td>\n",
       "    </tr>\n",
       "    <tr>\n",
       "      <th>57</th>\n",
       "      <td>Якутск Орджоникидзе, 56</td>\n",
       "      <td>57</td>\n",
       "    </tr>\n",
       "    <tr>\n",
       "      <th>58</th>\n",
       "      <td>Якутск ТЦ \"Центральный\"</td>\n",
       "      <td>58</td>\n",
       "    </tr>\n",
       "    <tr>\n",
       "      <th>59</th>\n",
       "      <td>Ярославль ТЦ \"Альтаир\"</td>\n",
       "      <td>59</td>\n",
       "    </tr>\n",
       "  </tbody>\n",
       "</table>\n",
       "</div>"
      ],
      "text/plain": [
       "                                          shop_name  shop_id\n",
       "0                     !Якутск Орджоникидзе, 56 фран        0\n",
       "1                     !Якутск ТЦ \"Центральный\" фран        1\n",
       "2                                  Адыгея ТЦ \"Мега\"        2\n",
       "3                    Балашиха ТРК \"Октябрь-Киномир\"        3\n",
       "4                          Волжский ТЦ \"Волга Молл\"        4\n",
       "5                            Вологда ТРЦ \"Мармелад\"        5\n",
       "6                        Воронеж (Плехановская, 13)        6\n",
       "7                            Воронеж ТРЦ \"Максимир\"        7\n",
       "8                      Воронеж ТРЦ Сити-Парк \"Град\"        8\n",
       "9                                 Выездная Торговля        9\n",
       "10                       Жуковский ул. Чкалова 39м?       10\n",
       "11                       Жуковский ул. Чкалова 39м²       11\n",
       "12                              Интернет-магазин ЧС       12\n",
       "13                              Казань ТЦ \"Бехетле\"       13\n",
       "14                          Казань ТЦ \"ПаркХаус\" II       14\n",
       "15                             Калуга ТРЦ \"XXI век\"       15\n",
       "16                                 Коломна ТЦ \"Рио\"       16\n",
       "17                    Красноярск ТЦ \"Взлетка Плаза\"       17\n",
       "18                             Красноярск ТЦ \"Июнь\"       18\n",
       "19                            Курск ТЦ \"Пушкинский\"       19\n",
       "20                              Москва \"Распродажа\"       20\n",
       "21                           Москва МТРЦ \"Афи Молл\"       21\n",
       "22                               Москва Магазин С21       22\n",
       "23                 Москва ТК \"Буденовский\" (пав.А2)       23\n",
       "24                 Москва ТК \"Буденовский\" (пав.К7)       24\n",
       "25                              Москва ТРК \"Атриум\"       25\n",
       "26                      Москва ТЦ \"Ареал\" (Беляево)       26\n",
       "27                   Москва ТЦ \"МЕГА Белая Дача II\"       27\n",
       "28                  Москва ТЦ \"МЕГА Теплый Стан\" II       28\n",
       "29               Москва ТЦ \"Новый век\" (Новокосино)       29\n",
       "30                           Москва ТЦ \"Перловский\"       30\n",
       "31                          Москва ТЦ \"Семеновский\"       31\n",
       "32                       Москва ТЦ \"Серебряный Дом\"       32\n",
       "33                                Мытищи ТРК \"XL-3\"       33\n",
       "34                             Н.Новгород ТРЦ \"РИО\"       34\n",
       "35                      Н.Новгород ТРЦ \"Фантастика\"       35\n",
       "36            Новосибирск ТРЦ \"Галерея Новосибирск\"       36\n",
       "37                            Новосибирск ТЦ \"Мега\"       37\n",
       "38                                   Омск ТЦ \"Мега\"       38\n",
       "39            РостовНаДону ТРК \"Мегацентр Горизонт\"       39\n",
       "40  РостовНаДону ТРК \"Мегацентр Горизонт\" Островной       40\n",
       "41                           РостовНаДону ТЦ \"Мега\"       41\n",
       "42                           СПб ТК \"Невский Центр\"       42\n",
       "43                                  СПб ТК \"Сенная\"       43\n",
       "44                              Самара ТЦ \"Мелодия\"       44\n",
       "45                             Самара ТЦ \"ПаркХаус\"       45\n",
       "46                            Сергиев Посад ТЦ \"7Я\"       46\n",
       "47                           Сургут ТРЦ \"Сити Молл\"       47\n",
       "48                     Томск ТРЦ \"Изумрудный Город\"       48\n",
       "49                            Тюмень ТРЦ \"Кристалл\"       49\n",
       "50                               Тюмень ТЦ \"Гудвин\"       50\n",
       "51                        Тюмень ТЦ \"Зеленый Берег\"       51\n",
       "52                             Уфа ТК \"Центральный\"       52\n",
       "53                                 Уфа ТЦ \"Семья\" 2       53\n",
       "54                                  Химки ТЦ \"Мега\"       54\n",
       "55                         Цифровой склад 1С-Онлайн       55\n",
       "56                             Чехов ТРЦ \"Карнавал\"       56\n",
       "57                          Якутск Орджоникидзе, 56       57\n",
       "58                          Якутск ТЦ \"Центральный\"       58\n",
       "59                           Ярославль ТЦ \"Альтаир\"       59"
      ]
     },
     "metadata": {},
     "output_type": "display_data"
    }
   ],
   "source": [
    "display(sales_train, items_cat, items, shops)"
   ]
  },
  {
   "cell_type": "markdown",
   "id": "84b0fddd",
   "metadata": {},
   "source": [
    "#### Joining the datasets"
   ]
  },
  {
   "cell_type": "code",
   "execution_count": 173,
   "id": "eac3e83e",
   "metadata": {},
   "outputs": [],
   "source": [
    "df = pd.merge(items, sales_train)"
   ]
  },
  {
   "cell_type": "code",
   "execution_count": 174,
   "id": "82eb64f3",
   "metadata": {},
   "outputs": [],
   "source": [
    "df1=pd.merge(items_cat, df)"
   ]
  },
  {
   "cell_type": "code",
   "execution_count": 175,
   "id": "0199d9aa",
   "metadata": {},
   "outputs": [],
   "source": [
    "df2=pd.merge(shops, df1)"
   ]
  },
  {
   "cell_type": "code",
   "execution_count": 176,
   "id": "5ed5c4eb",
   "metadata": {},
   "outputs": [
    {
     "name": "stdout",
     "output_type": "stream",
     "text": [
      "(2935849, 10)\n"
     ]
    }
   ],
   "source": [
    "train = df2\n",
    "train.head()\n",
    "\n",
    "print(train.shape)"
   ]
  },
  {
   "cell_type": "code",
   "execution_count": 177,
   "id": "e3233ffd",
   "metadata": {},
   "outputs": [
    {
     "name": "stdout",
     "output_type": "stream",
     "text": [
      "<class 'pandas.core.frame.DataFrame'>\n",
      "Int64Index: 2935849 entries, 0 to 2935848\n",
      "Data columns (total 10 columns):\n",
      " #   Column              Dtype  \n",
      "---  ------              -----  \n",
      " 0   shop_name           object \n",
      " 1   shop_id             int64  \n",
      " 2   item_category_name  object \n",
      " 3   item_category_id    int64  \n",
      " 4   item_name           object \n",
      " 5   item_id             int64  \n",
      " 6   date                object \n",
      " 7   date_block_num      int64  \n",
      " 8   item_price          float64\n",
      " 9   item_cnt_day        float64\n",
      "dtypes: float64(2), int64(4), object(4)\n",
      "memory usage: 246.4+ MB\n"
     ]
    }
   ],
   "source": [
    "train.info()"
   ]
  },
  {
   "cell_type": "markdown",
   "id": "edcf810f",
   "metadata": {},
   "source": [
    "#### The number of rows of train and trainset1 are same 2935849, which shows that merge was successful."
   ]
  },
  {
   "cell_type": "markdown",
   "id": "127ef97e",
   "metadata": {},
   "source": [
    "#### Descriptive Statistics"
   ]
  },
  {
   "cell_type": "code",
   "execution_count": 178,
   "id": "5ffc3237",
   "metadata": {},
   "outputs": [
    {
     "data": {
      "text/html": [
       "<div>\n",
       "<style scoped>\n",
       "    .dataframe tbody tr th:only-of-type {\n",
       "        vertical-align: middle;\n",
       "    }\n",
       "\n",
       "    .dataframe tbody tr th {\n",
       "        vertical-align: top;\n",
       "    }\n",
       "\n",
       "    .dataframe thead th {\n",
       "        text-align: right;\n",
       "    }\n",
       "</style>\n",
       "<table border=\"1\" class=\"dataframe\">\n",
       "  <thead>\n",
       "    <tr style=\"text-align: right;\">\n",
       "      <th></th>\n",
       "      <th>shop_id</th>\n",
       "      <th>item_category_id</th>\n",
       "      <th>item_id</th>\n",
       "      <th>date_block_num</th>\n",
       "      <th>item_price</th>\n",
       "      <th>item_cnt_day</th>\n",
       "    </tr>\n",
       "  </thead>\n",
       "  <tbody>\n",
       "    <tr>\n",
       "      <th>count</th>\n",
       "      <td>2.935849e+06</td>\n",
       "      <td>2.935849e+06</td>\n",
       "      <td>2.935849e+06</td>\n",
       "      <td>2.935849e+06</td>\n",
       "      <td>2.935849e+06</td>\n",
       "      <td>2.935849e+06</td>\n",
       "    </tr>\n",
       "    <tr>\n",
       "      <th>mean</th>\n",
       "      <td>3.300173e+01</td>\n",
       "      <td>4.000138e+01</td>\n",
       "      <td>1.019723e+04</td>\n",
       "      <td>1.456991e+01</td>\n",
       "      <td>8.908532e+02</td>\n",
       "      <td>1.242641e+00</td>\n",
       "    </tr>\n",
       "    <tr>\n",
       "      <th>std</th>\n",
       "      <td>1.622697e+01</td>\n",
       "      <td>1.710076e+01</td>\n",
       "      <td>6.324297e+03</td>\n",
       "      <td>9.422988e+00</td>\n",
       "      <td>1.729800e+03</td>\n",
       "      <td>2.618834e+00</td>\n",
       "    </tr>\n",
       "    <tr>\n",
       "      <th>min</th>\n",
       "      <td>0.000000e+00</td>\n",
       "      <td>0.000000e+00</td>\n",
       "      <td>0.000000e+00</td>\n",
       "      <td>0.000000e+00</td>\n",
       "      <td>-1.000000e+00</td>\n",
       "      <td>-2.200000e+01</td>\n",
       "    </tr>\n",
       "    <tr>\n",
       "      <th>25%</th>\n",
       "      <td>2.200000e+01</td>\n",
       "      <td>2.800000e+01</td>\n",
       "      <td>4.476000e+03</td>\n",
       "      <td>7.000000e+00</td>\n",
       "      <td>2.490000e+02</td>\n",
       "      <td>1.000000e+00</td>\n",
       "    </tr>\n",
       "    <tr>\n",
       "      <th>50%</th>\n",
       "      <td>3.100000e+01</td>\n",
       "      <td>4.000000e+01</td>\n",
       "      <td>9.343000e+03</td>\n",
       "      <td>1.400000e+01</td>\n",
       "      <td>3.990000e+02</td>\n",
       "      <td>1.000000e+00</td>\n",
       "    </tr>\n",
       "    <tr>\n",
       "      <th>75%</th>\n",
       "      <td>4.700000e+01</td>\n",
       "      <td>5.500000e+01</td>\n",
       "      <td>1.568400e+04</td>\n",
       "      <td>2.300000e+01</td>\n",
       "      <td>9.990000e+02</td>\n",
       "      <td>1.000000e+00</td>\n",
       "    </tr>\n",
       "    <tr>\n",
       "      <th>max</th>\n",
       "      <td>5.900000e+01</td>\n",
       "      <td>8.300000e+01</td>\n",
       "      <td>2.216900e+04</td>\n",
       "      <td>3.300000e+01</td>\n",
       "      <td>3.079800e+05</td>\n",
       "      <td>2.169000e+03</td>\n",
       "    </tr>\n",
       "  </tbody>\n",
       "</table>\n",
       "</div>"
      ],
      "text/plain": [
       "            shop_id  item_category_id       item_id  date_block_num  \\\n",
       "count  2.935849e+06      2.935849e+06  2.935849e+06    2.935849e+06   \n",
       "mean   3.300173e+01      4.000138e+01  1.019723e+04    1.456991e+01   \n",
       "std    1.622697e+01      1.710076e+01  6.324297e+03    9.422988e+00   \n",
       "min    0.000000e+00      0.000000e+00  0.000000e+00    0.000000e+00   \n",
       "25%    2.200000e+01      2.800000e+01  4.476000e+03    7.000000e+00   \n",
       "50%    3.100000e+01      4.000000e+01  9.343000e+03    1.400000e+01   \n",
       "75%    4.700000e+01      5.500000e+01  1.568400e+04    2.300000e+01   \n",
       "max    5.900000e+01      8.300000e+01  2.216900e+04    3.300000e+01   \n",
       "\n",
       "         item_price  item_cnt_day  \n",
       "count  2.935849e+06  2.935849e+06  \n",
       "mean   8.908532e+02  1.242641e+00  \n",
       "std    1.729800e+03  2.618834e+00  \n",
       "min   -1.000000e+00 -2.200000e+01  \n",
       "25%    2.490000e+02  1.000000e+00  \n",
       "50%    3.990000e+02  1.000000e+00  \n",
       "75%    9.990000e+02  1.000000e+00  \n",
       "max    3.079800e+05  2.169000e+03  "
      ]
     },
     "execution_count": 178,
     "metadata": {},
     "output_type": "execute_result"
    }
   ],
   "source": [
    "train.describe()"
   ]
  },
  {
   "cell_type": "markdown",
   "id": "1b4b8b45",
   "metadata": {},
   "source": [
    "#### In the statistical summary, notice that an item has a negative price which represents a mistake, also notice that item_cnt_day has a negative value which shows that there wasn't any sale that day. It shows -1 porbably because the products were returned. These issues will be fixed later during exploration."
   ]
  },
  {
   "cell_type": "markdown",
   "id": "ebaefdb2",
   "metadata": {},
   "source": [
    "### To check for missing values"
   ]
  },
  {
   "cell_type": "code",
   "execution_count": 179,
   "id": "095f0f70",
   "metadata": {},
   "outputs": [
    {
     "data": {
      "text/plain": [
       "shop_name             0\n",
       "shop_id               0\n",
       "item_category_name    0\n",
       "item_category_id      0\n",
       "item_name             0\n",
       "item_id               0\n",
       "date                  0\n",
       "date_block_num        0\n",
       "item_price            0\n",
       "item_cnt_day          0\n",
       "dtype: int64"
      ]
     },
     "execution_count": 179,
     "metadata": {},
     "output_type": "execute_result"
    }
   ],
   "source": [
    "train.isna().sum()"
   ]
  },
  {
   "cell_type": "markdown",
   "id": "a4858657",
   "metadata": {},
   "source": [
    "#### The data set does not contain any missing values"
   ]
  },
  {
   "cell_type": "markdown",
   "id": "83840d44",
   "metadata": {},
   "source": [
    "### To check the dimensions in categorical features"
   ]
  },
  {
   "cell_type": "code",
   "execution_count": 180,
   "id": "13a77179",
   "metadata": {},
   "outputs": [
    {
     "data": {
      "text/plain": [
       "array(['!Якутск Орджоникидзе, 56 фран', '!Якутск ТЦ \"Центральный\" фран',\n",
       "       'Адыгея ТЦ \"Мега\"', 'Балашиха ТРК \"Октябрь-Киномир\"',\n",
       "       'Волжский ТЦ \"Волга Молл\"', 'Вологда ТРЦ \"Мармелад\"',\n",
       "       'Воронеж (Плехановская, 13)', 'Воронеж ТРЦ \"Максимир\"',\n",
       "       'Воронеж ТРЦ Сити-Парк \"Град\"', 'Выездная Торговля',\n",
       "       'Жуковский ул. Чкалова 39м?', 'Жуковский ул. Чкалова 39м²',\n",
       "       'Интернет-магазин ЧС', 'Казань ТЦ \"Бехетле\"',\n",
       "       'Казань ТЦ \"ПаркХаус\" II', 'Калуга ТРЦ \"XXI век\"',\n",
       "       'Коломна ТЦ \"Рио\"', 'Красноярск ТЦ \"Взлетка Плаза\"',\n",
       "       'Красноярск ТЦ \"Июнь\"', 'Курск ТЦ \"Пушкинский\"',\n",
       "       'Москва \"Распродажа\"', 'Москва МТРЦ \"Афи Молл\"',\n",
       "       'Москва Магазин С21', 'Москва ТК \"Буденовский\" (пав.А2)',\n",
       "       'Москва ТК \"Буденовский\" (пав.К7)', 'Москва ТРК \"Атриум\"',\n",
       "       'Москва ТЦ \"Ареал\" (Беляево)', 'Москва ТЦ \"МЕГА Белая Дача II\"',\n",
       "       'Москва ТЦ \"МЕГА Теплый Стан\" II',\n",
       "       'Москва ТЦ \"Новый век\" (Новокосино)', 'Москва ТЦ \"Перловский\"',\n",
       "       'Москва ТЦ \"Семеновский\"', 'Москва ТЦ \"Серебряный Дом\"',\n",
       "       'Мытищи ТРК \"XL-3\"', 'Н.Новгород ТРЦ \"РИО\"',\n",
       "       'Н.Новгород ТРЦ \"Фантастика\"',\n",
       "       'Новосибирск ТРЦ \"Галерея Новосибирск\"', 'Новосибирск ТЦ \"Мега\"',\n",
       "       'Омск ТЦ \"Мега\"', 'РостовНаДону ТРК \"Мегацентр Горизонт\"',\n",
       "       'РостовНаДону ТРК \"Мегацентр Горизонт\" Островной',\n",
       "       'РостовНаДону ТЦ \"Мега\"', 'СПб ТК \"Невский Центр\"',\n",
       "       'СПб ТК \"Сенная\"', 'Самара ТЦ \"Мелодия\"', 'Самара ТЦ \"ПаркХаус\"',\n",
       "       'Сергиев Посад ТЦ \"7Я\"', 'Сургут ТРЦ \"Сити Молл\"',\n",
       "       'Томск ТРЦ \"Изумрудный Город\"', 'Тюмень ТРЦ \"Кристалл\"',\n",
       "       'Тюмень ТЦ \"Гудвин\"', 'Тюмень ТЦ \"Зеленый Берег\"',\n",
       "       'Уфа ТК \"Центральный\"', 'Уфа ТЦ \"Семья\" 2', 'Химки ТЦ \"Мега\"',\n",
       "       'Цифровой склад 1С-Онлайн', 'Чехов ТРЦ \"Карнавал\"',\n",
       "       'Якутск Орджоникидзе, 56', 'Якутск ТЦ \"Центральный\"',\n",
       "       'Ярославль ТЦ \"Альтаир\"'], dtype=object)"
      ]
     },
     "execution_count": 180,
     "metadata": {},
     "output_type": "execute_result"
    }
   ],
   "source": [
    "train['shop_name'].unique()"
   ]
  },
  {
   "cell_type": "code",
   "execution_count": 181,
   "id": "6699c3c6",
   "metadata": {},
   "outputs": [
    {
     "data": {
      "text/plain": [
       "array(['PC - Гарнитуры/Наушники', 'Аксессуары - PS2', 'Аксессуары - PS3',\n",
       "       'Аксессуары - PS4', 'Аксессуары - PSP', 'Аксессуары - PSVita',\n",
       "       'Аксессуары - XBOX 360', 'Игровые консоли - PS3',\n",
       "       'Игровые консоли - PSP', 'Игровые консоли - PSVita',\n",
       "       'Игровые консоли - XBOX 360', 'Игры - PS3', 'Игры - PSP',\n",
       "       'Игры - PSVita', 'Игры - XBOX 360', 'Игры - Аксессуары для игр',\n",
       "       'Игры PC - Дополнительные издания',\n",
       "       'Игры PC - Коллекционные издания', 'Игры PC - Стандартные издания',\n",
       "       'Карты оплаты - Live!', 'Карты оплаты - PSN', 'Кино - Blu-Ray',\n",
       "       'Кино - Blu-Ray 3D', 'Кино - DVD', 'Кино - Коллекционное',\n",
       "       'Книги - Аудиокниги', 'Книги - Аудиокниги 1С',\n",
       "       'Книги - Методические материалы 1С',\n",
       "       'Музыка - CD локального производства',\n",
       "       'Музыка - CD фирменного производства', 'Музыка - MP3',\n",
       "       'Музыка - Музыкальное видео', 'Музыка - Подарочные издания',\n",
       "       'Подарки - Гаджеты, роботы, спорт', 'Подарки - Мягкие игрушки',\n",
       "       'Подарки - Настольные игры',\n",
       "       'Подарки - Настольные игры (компактные)', 'Подарки - Развитие',\n",
       "       'Подарки - Сувениры', 'Подарки - Сувениры (в навеску)',\n",
       "       'Подарки - Сумки, Альбомы, Коврики д/мыши', 'Подарки - Фигурки',\n",
       "       'Программы - 1С:Предприятие 8', 'Программы - Для дома и офиса',\n",
       "       'Программы - Обучающие', 'Чистые носители (шпиль)',\n",
       "       'Чистые носители (штучные)', 'Элементы питания', 'Музыка - Винил',\n",
       "       'Аксессуары - XBOX ONE', 'Билеты (Цифра)', 'Игровые консоли - PS4',\n",
       "       'Игровые консоли - XBOX ONE', 'Игровые консоли - Прочие',\n",
       "       'Игры - PS4', 'Игры - XBOX ONE',\n",
       "       'Карты оплаты (Кино, Музыка, Игры)', 'Кино - Blu-Ray 4K',\n",
       "       'Книги - Артбуки, энциклопедии', 'Книги - Комиксы, манга',\n",
       "       'Подарки - Атрибутика', 'Служебные', 'Служебные - Билеты',\n",
       "       'Книги - Путеводители', 'Книги - Бизнес литература',\n",
       "       'Книги - Художественная литература',\n",
       "       'Подарки - Открытки, наклейки', 'Книги - Открытки',\n",
       "       'Доставка товара', 'Книги - Компьютерная литература',\n",
       "       'Подарки - Сертификаты, услуги', 'Игры - PS2',\n",
       "       'Игровые консоли - PS2', 'Книги - Познавательная литература',\n",
       "       'Игры Android - Цифра', 'Игры MAC - Цифра', 'Игры PC - Цифра',\n",
       "       'Карты оплаты - Live! (Цифра)', 'Карты оплаты - Windows (Цифра)',\n",
       "       'Книги - Аудиокниги (Цифра)', 'Книги - Цифра',\n",
       "       'Программы - MAC (Цифра)', 'Программы - Для дома и офиса (Цифра)',\n",
       "       'Программы - Обучающие (Цифра)'], dtype=object)"
      ]
     },
     "execution_count": 181,
     "metadata": {},
     "output_type": "execute_result"
    }
   ],
   "source": [
    "train['item_category_name'].unique()"
   ]
  },
  {
   "cell_type": "code",
   "execution_count": 182,
   "id": "26855722",
   "metadata": {},
   "outputs": [
    {
     "data": {
      "text/plain": [
       "array(['Наушники PHILIPS SBC HC8680',\n",
       "       'Pelican. Геймпад Nerf Wireless Controller PS2 (assorted colors)',\n",
       "       'PS Move Controller (Контроллер движений)', ...,\n",
       "       'LINKIN PARK  Reanimation', 'Ранетки (mp3-CD) (Jewel)',\n",
       "       'Наш Сад, UPG с версии 6.0 до версии 10.0'], dtype=object)"
      ]
     },
     "execution_count": 182,
     "metadata": {},
     "output_type": "execute_result"
    }
   ],
   "source": [
    "train['item_name'].unique()"
   ]
  },
  {
   "cell_type": "code",
   "execution_count": 183,
   "id": "3075e5de",
   "metadata": {},
   "outputs": [
    {
     "data": {
      "text/plain": [
       "array([16255,  5740,  5570, ...,  4426, 18018, 16270], dtype=int64)"
      ]
     },
     "execution_count": 183,
     "metadata": {},
     "output_type": "execute_result"
    }
   ],
   "source": [
    "train['item_id'].unique()"
   ]
  },
  {
   "cell_type": "code",
   "execution_count": 184,
   "id": "4d2a223e",
   "metadata": {},
   "outputs": [
    {
     "data": {
      "text/plain": [
       "60"
      ]
     },
     "execution_count": 184,
     "metadata": {},
     "output_type": "execute_result"
    }
   ],
   "source": [
    "train['shop_name'].nunique()"
   ]
  },
  {
   "cell_type": "markdown",
   "id": "bf7e74fe",
   "metadata": {},
   "source": [
    "#### This shows that each shop_name has an assigned shop_id"
   ]
  },
  {
   "cell_type": "code",
   "execution_count": 185,
   "id": "f6625739",
   "metadata": {},
   "outputs": [
    {
     "data": {
      "text/plain": [
       "84"
      ]
     },
     "execution_count": 185,
     "metadata": {},
     "output_type": "execute_result"
    }
   ],
   "source": [
    "train['item_category_name'].nunique()"
   ]
  },
  {
   "cell_type": "code",
   "execution_count": 186,
   "id": "843fc63c",
   "metadata": {},
   "outputs": [
    {
     "data": {
      "text/plain": [
       "21807"
      ]
     },
     "execution_count": 186,
     "metadata": {},
     "output_type": "execute_result"
    }
   ],
   "source": [
    "train['item_name'].nunique()"
   ]
  },
  {
   "cell_type": "code",
   "execution_count": 187,
   "id": "66ba7aa9",
   "metadata": {},
   "outputs": [
    {
     "data": {
      "text/plain": [
       "21807"
      ]
     },
     "execution_count": 187,
     "metadata": {},
     "output_type": "execute_result"
    }
   ],
   "source": [
    "train['item_id'].nunique()"
   ]
  },
  {
   "cell_type": "markdown",
   "id": "b5609fc8",
   "metadata": {},
   "source": [
    "#### This shows that each item_name has an assigned item_id"
   ]
  },
  {
   "cell_type": "code",
   "execution_count": null,
   "id": "6a9bcf8a",
   "metadata": {},
   "outputs": [],
   "source": []
  },
  {
   "cell_type": "markdown",
   "id": "46d171d6",
   "metadata": {},
   "source": [
    "### To copy the train data set"
   ]
  },
  {
   "cell_type": "code",
   "execution_count": 188,
   "id": "d65f6366",
   "metadata": {},
   "outputs": [],
   "source": [
    "train_set = train.copy()"
   ]
  },
  {
   "cell_type": "code",
   "execution_count": null,
   "id": "37e09a9a",
   "metadata": {},
   "outputs": [],
   "source": []
  },
  {
   "cell_type": "markdown",
   "id": "f2ecceb2",
   "metadata": {},
   "source": [
    "### To explore the dataset (EDA)"
   ]
  },
  {
   "cell_type": "code",
   "execution_count": 189,
   "id": "0cce077a",
   "metadata": {},
   "outputs": [
    {
     "data": {
      "text/html": [
       "<div>\n",
       "<style scoped>\n",
       "    .dataframe tbody tr th:only-of-type {\n",
       "        vertical-align: middle;\n",
       "    }\n",
       "\n",
       "    .dataframe tbody tr th {\n",
       "        vertical-align: top;\n",
       "    }\n",
       "\n",
       "    .dataframe thead th {\n",
       "        text-align: right;\n",
       "    }\n",
       "</style>\n",
       "<table border=\"1\" class=\"dataframe\">\n",
       "  <thead>\n",
       "    <tr style=\"text-align: right;\">\n",
       "      <th></th>\n",
       "      <th>shop_id</th>\n",
       "      <th>item_category_id</th>\n",
       "      <th>item_id</th>\n",
       "      <th>date_block_num</th>\n",
       "      <th>item_price</th>\n",
       "      <th>item_cnt_day</th>\n",
       "    </tr>\n",
       "  </thead>\n",
       "  <tbody>\n",
       "    <tr>\n",
       "      <th>shop_id</th>\n",
       "      <td>1.000000</td>\n",
       "      <td>0.019380</td>\n",
       "      <td>0.029396</td>\n",
       "      <td>0.019273</td>\n",
       "      <td>-0.024034</td>\n",
       "      <td>-0.005230</td>\n",
       "    </tr>\n",
       "    <tr>\n",
       "      <th>item_category_id</th>\n",
       "      <td>0.019380</td>\n",
       "      <td>1.000000</td>\n",
       "      <td>0.369431</td>\n",
       "      <td>0.029128</td>\n",
       "      <td>-0.253554</td>\n",
       "      <td>0.014768</td>\n",
       "    </tr>\n",
       "    <tr>\n",
       "      <th>item_id</th>\n",
       "      <td>0.029396</td>\n",
       "      <td>0.369431</td>\n",
       "      <td>1.000000</td>\n",
       "      <td>0.009356</td>\n",
       "      <td>-0.134104</td>\n",
       "      <td>0.016650</td>\n",
       "    </tr>\n",
       "    <tr>\n",
       "      <th>date_block_num</th>\n",
       "      <td>0.019273</td>\n",
       "      <td>0.029128</td>\n",
       "      <td>0.009356</td>\n",
       "      <td>1.000000</td>\n",
       "      <td>0.095010</td>\n",
       "      <td>0.009402</td>\n",
       "    </tr>\n",
       "    <tr>\n",
       "      <th>item_price</th>\n",
       "      <td>-0.024034</td>\n",
       "      <td>-0.253554</td>\n",
       "      <td>-0.134104</td>\n",
       "      <td>0.095010</td>\n",
       "      <td>1.000000</td>\n",
       "      <td>0.011197</td>\n",
       "    </tr>\n",
       "    <tr>\n",
       "      <th>item_cnt_day</th>\n",
       "      <td>-0.005230</td>\n",
       "      <td>0.014768</td>\n",
       "      <td>0.016650</td>\n",
       "      <td>0.009402</td>\n",
       "      <td>0.011197</td>\n",
       "      <td>1.000000</td>\n",
       "    </tr>\n",
       "  </tbody>\n",
       "</table>\n",
       "</div>"
      ],
      "text/plain": [
       "                   shop_id  item_category_id   item_id  date_block_num  \\\n",
       "shop_id           1.000000          0.019380  0.029396        0.019273   \n",
       "item_category_id  0.019380          1.000000  0.369431        0.029128   \n",
       "item_id           0.029396          0.369431  1.000000        0.009356   \n",
       "date_block_num    0.019273          0.029128  0.009356        1.000000   \n",
       "item_price       -0.024034         -0.253554 -0.134104        0.095010   \n",
       "item_cnt_day     -0.005230          0.014768  0.016650        0.009402   \n",
       "\n",
       "                  item_price  item_cnt_day  \n",
       "shop_id            -0.024034     -0.005230  \n",
       "item_category_id   -0.253554      0.014768  \n",
       "item_id            -0.134104      0.016650  \n",
       "date_block_num      0.095010      0.009402  \n",
       "item_price          1.000000      0.011197  \n",
       "item_cnt_day        0.011197      1.000000  "
      ]
     },
     "execution_count": 189,
     "metadata": {},
     "output_type": "execute_result"
    }
   ],
   "source": [
    "corrmat=train_set.corr()\n",
    "corrmat"
   ]
  },
  {
   "cell_type": "code",
   "execution_count": 190,
   "id": "90a5f3c1",
   "metadata": {},
   "outputs": [
    {
     "data": {
      "text/plain": [
       "<AxesSubplot:>"
      ]
     },
     "execution_count": 190,
     "metadata": {},
     "output_type": "execute_result"
    },
    {
     "data": {
      "image/png": "[encoded data removed]",
      "text/plain": [
       "<Figure size 720x720 with 2 Axes>"
      ]
     },
     "metadata": {},
     "output_type": "display_data"
    }
   ],
   "source": [
    "plt.figure(figsize=(10, 10))\n",
    "sns.set(font_scale=2)\n",
    "sns.heatmap(train_set.corr(), annot=True, cmap=\"Blues\", fmt= \".2g\")"
   ]
  },
  {
   "cell_type": "markdown",
   "id": "2e09bb65",
   "metadata": {},
   "source": [
    "#### Imputing the negative item price."
   ]
  },
  {
   "cell_type": "code",
   "execution_count": 191,
   "id": "3063c0e4",
   "metadata": {},
   "outputs": [
    {
     "data": {
      "text/html": [
       "<div>\n",
       "<style scoped>\n",
       "    .dataframe tbody tr th:only-of-type {\n",
       "        vertical-align: middle;\n",
       "    }\n",
       "\n",
       "    .dataframe tbody tr th {\n",
       "        vertical-align: top;\n",
       "    }\n",
       "\n",
       "    .dataframe thead th {\n",
       "        text-align: right;\n",
       "    }\n",
       "</style>\n",
       "<table border=\"1\" class=\"dataframe\">\n",
       "  <thead>\n",
       "    <tr style=\"text-align: right;\">\n",
       "      <th></th>\n",
       "      <th>shop_name</th>\n",
       "      <th>shop_id</th>\n",
       "      <th>item_category_name</th>\n",
       "      <th>item_category_id</th>\n",
       "      <th>item_name</th>\n",
       "      <th>item_id</th>\n",
       "      <th>date</th>\n",
       "      <th>date_block_num</th>\n",
       "      <th>item_price</th>\n",
       "      <th>item_cnt_day</th>\n",
       "    </tr>\n",
       "  </thead>\n",
       "  <tbody>\n",
       "    <tr>\n",
       "      <th>1644072</th>\n",
       "      <td>Москва ТЦ \"Серебряный Дом\"</td>\n",
       "      <td>32</td>\n",
       "      <td>Игры - PS3</td>\n",
       "      <td>19</td>\n",
       "      <td>DmC Devil May Cry [PS3, русские субтитры]</td>\n",
       "      <td>2973</td>\n",
       "      <td>15.05.2013</td>\n",
       "      <td>4</td>\n",
       "      <td>-1.0</td>\n",
       "      <td>1.0</td>\n",
       "    </tr>\n",
       "  </tbody>\n",
       "</table>\n",
       "</div>"
      ],
      "text/plain": [
       "                          shop_name  shop_id item_category_name  \\\n",
       "1644072  Москва ТЦ \"Серебряный Дом\"       32         Игры - PS3   \n",
       "\n",
       "         item_category_id                                  item_name  item_id  \\\n",
       "1644072                19  DmC Devil May Cry [PS3, русские субтитры]     2973   \n",
       "\n",
       "               date  date_block_num  item_price  item_cnt_day  \n",
       "1644072  15.05.2013               4        -1.0           1.0  "
      ]
     },
     "execution_count": 191,
     "metadata": {},
     "output_type": "execute_result"
    }
   ],
   "source": [
    "negative_price=train_set[train_set[\"item_price\"] < 0]\n",
    "negative_price\n"
   ]
  },
  {
   "cell_type": "markdown",
   "id": "6a31162f",
   "metadata": {},
   "source": [
    "There is only one record with negative price. Lets find the price of the item sold in the same shop during the same month, so we can imupte the value"
   ]
  },
  {
   "cell_type": "code",
   "execution_count": 192,
   "id": "3308a610",
   "metadata": {},
   "outputs": [
    {
     "data": {
      "text/html": [
       "<div>\n",
       "<style scoped>\n",
       "    .dataframe tbody tr th:only-of-type {\n",
       "        vertical-align: middle;\n",
       "    }\n",
       "\n",
       "    .dataframe tbody tr th {\n",
       "        vertical-align: top;\n",
       "    }\n",
       "\n",
       "    .dataframe thead th {\n",
       "        text-align: right;\n",
       "    }\n",
       "</style>\n",
       "<table border=\"1\" class=\"dataframe\">\n",
       "  <thead>\n",
       "    <tr style=\"text-align: right;\">\n",
       "      <th></th>\n",
       "      <th>shop_name</th>\n",
       "      <th>shop_id</th>\n",
       "      <th>item_category_name</th>\n",
       "      <th>item_category_id</th>\n",
       "      <th>item_name</th>\n",
       "      <th>item_id</th>\n",
       "      <th>date</th>\n",
       "      <th>date_block_num</th>\n",
       "      <th>item_price</th>\n",
       "      <th>item_cnt_day</th>\n",
       "    </tr>\n",
       "  </thead>\n",
       "  <tbody>\n",
       "    <tr>\n",
       "      <th>1644071</th>\n",
       "      <td>Москва ТЦ \"Серебряный Дом\"</td>\n",
       "      <td>32</td>\n",
       "      <td>Игры - PS3</td>\n",
       "      <td>19</td>\n",
       "      <td>DmC Devil May Cry [PS3, русские субтитры]</td>\n",
       "      <td>2973</td>\n",
       "      <td>23.05.2013</td>\n",
       "      <td>4</td>\n",
       "      <td>1249.0</td>\n",
       "      <td>1.0</td>\n",
       "    </tr>\n",
       "    <tr>\n",
       "      <th>1644072</th>\n",
       "      <td>Москва ТЦ \"Серебряный Дом\"</td>\n",
       "      <td>32</td>\n",
       "      <td>Игры - PS3</td>\n",
       "      <td>19</td>\n",
       "      <td>DmC Devil May Cry [PS3, русские субтитры]</td>\n",
       "      <td>2973</td>\n",
       "      <td>15.05.2013</td>\n",
       "      <td>4</td>\n",
       "      <td>-1.0</td>\n",
       "      <td>1.0</td>\n",
       "    </tr>\n",
       "    <tr>\n",
       "      <th>1644073</th>\n",
       "      <td>Москва ТЦ \"Серебряный Дом\"</td>\n",
       "      <td>32</td>\n",
       "      <td>Игры - PS3</td>\n",
       "      <td>19</td>\n",
       "      <td>DmC Devil May Cry [PS3, русские субтитры]</td>\n",
       "      <td>2973</td>\n",
       "      <td>06.05.2013</td>\n",
       "      <td>4</td>\n",
       "      <td>2499.0</td>\n",
       "      <td>1.0</td>\n",
       "    </tr>\n",
       "  </tbody>\n",
       "</table>\n",
       "</div>"
      ],
      "text/plain": [
       "                          shop_name  shop_id item_category_name  \\\n",
       "1644071  Москва ТЦ \"Серебряный Дом\"       32         Игры - PS3   \n",
       "1644072  Москва ТЦ \"Серебряный Дом\"       32         Игры - PS3   \n",
       "1644073  Москва ТЦ \"Серебряный Дом\"       32         Игры - PS3   \n",
       "\n",
       "         item_category_id                                  item_name  item_id  \\\n",
       "1644071                19  DmC Devil May Cry [PS3, русские субтитры]     2973   \n",
       "1644072                19  DmC Devil May Cry [PS3, русские субтитры]     2973   \n",
       "1644073                19  DmC Devil May Cry [PS3, русские субтитры]     2973   \n",
       "\n",
       "               date  date_block_num  item_price  item_cnt_day  \n",
       "1644071  23.05.2013               4      1249.0           1.0  \n",
       "1644072  15.05.2013               4        -1.0           1.0  \n",
       "1644073  06.05.2013               4      2499.0           1.0  "
      ]
     },
     "execution_count": 192,
     "metadata": {},
     "output_type": "execute_result"
    }
   ],
   "source": [
    "price_2973=train_set[(train_set[\"shop_id\"]== 32) & (train_set[\"item_category_name\"]==\"Игры - PS3\") & (train_set[\"item_id\"]== 2973 ) & (train_set[\"date_block_num\"]== 4)]\n",
    "price_2973"
   ]
  },
  {
   "cell_type": "markdown",
   "id": "8f434a63",
   "metadata": {},
   "source": [
    "#### Lets replace the price of the item with the average of two same items sold in the same month in the same shop"
   ]
  },
  {
   "cell_type": "code",
   "execution_count": 193,
   "id": "4c28fe46",
   "metadata": {},
   "outputs": [
    {
     "data": {
      "text/plain": [
       "1874.0"
      ]
     },
     "execution_count": 193,
     "metadata": {},
     "output_type": "execute_result"
    }
   ],
   "source": [
    "price_mean=price_2973[(price_2973.shop_id==32)&(price_2973.item_id==2973)&(price_2973.date_block_num==4)&(price_2973.item_price>0)]\n",
    "price_mean.item_price.mean()"
   ]
  },
  {
   "cell_type": "code",
   "execution_count": 194,
   "id": "a6997769",
   "metadata": {},
   "outputs": [],
   "source": [
    "train_set.at[1644072,'item_price']= 1849"
   ]
  },
  {
   "cell_type": "code",
   "execution_count": null,
   "id": "838cd089",
   "metadata": {},
   "outputs": [],
   "source": []
  },
  {
   "cell_type": "markdown",
   "id": "03cc2acc",
   "metadata": {},
   "source": [
    "### Imputing the negative value for item_cnt_day."
   ]
  },
  {
   "cell_type": "code",
   "execution_count": 195,
   "id": "00773878",
   "metadata": {},
   "outputs": [
    {
     "data": {
      "text/html": [
       "<div>\n",
       "<style scoped>\n",
       "    .dataframe tbody tr th:only-of-type {\n",
       "        vertical-align: middle;\n",
       "    }\n",
       "\n",
       "    .dataframe tbody tr th {\n",
       "        vertical-align: top;\n",
       "    }\n",
       "\n",
       "    .dataframe thead th {\n",
       "        text-align: right;\n",
       "    }\n",
       "</style>\n",
       "<table border=\"1\" class=\"dataframe\">\n",
       "  <thead>\n",
       "    <tr style=\"text-align: right;\">\n",
       "      <th></th>\n",
       "      <th>shop_name</th>\n",
       "      <th>shop_id</th>\n",
       "      <th>item_category_name</th>\n",
       "      <th>item_category_id</th>\n",
       "      <th>item_name</th>\n",
       "      <th>item_id</th>\n",
       "      <th>date</th>\n",
       "      <th>date_block_num</th>\n",
       "      <th>item_price</th>\n",
       "      <th>item_cnt_day</th>\n",
       "    </tr>\n",
       "  </thead>\n",
       "  <tbody>\n",
       "    <tr>\n",
       "      <th>15728</th>\n",
       "      <td>Адыгея ТЦ \"Мега\"</td>\n",
       "      <td>2</td>\n",
       "      <td>Аксессуары - PS3</td>\n",
       "      <td>2</td>\n",
       "      <td>PS3: Контроллер игровой беспроводной серый мет...</td>\n",
       "      <td>5637</td>\n",
       "      <td>06.10.2013</td>\n",
       "      <td>9</td>\n",
       "      <td>2590.00</td>\n",
       "      <td>-1.0</td>\n",
       "    </tr>\n",
       "    <tr>\n",
       "      <th>15757</th>\n",
       "      <td>Адыгея ТЦ \"Мега\"</td>\n",
       "      <td>2</td>\n",
       "      <td>Аксессуары - PS3</td>\n",
       "      <td>2</td>\n",
       "      <td>PS3: Контроллер игровой беспроводной темно-кра...</td>\n",
       "      <td>5642</td>\n",
       "      <td>01.12.2013</td>\n",
       "      <td>11</td>\n",
       "      <td>2490.00</td>\n",
       "      <td>-1.0</td>\n",
       "    </tr>\n",
       "    <tr>\n",
       "      <th>15771</th>\n",
       "      <td>Адыгея ТЦ \"Мега\"</td>\n",
       "      <td>2</td>\n",
       "      <td>Аксессуары - PS3</td>\n",
       "      <td>2</td>\n",
       "      <td>PS3: Контроллер игровой беспроводной черный (D...</td>\n",
       "      <td>5643</td>\n",
       "      <td>02.01.2013</td>\n",
       "      <td>0</td>\n",
       "      <td>2385.21</td>\n",
       "      <td>-1.0</td>\n",
       "    </tr>\n",
       "    <tr>\n",
       "      <th>16462</th>\n",
       "      <td>Адыгея ТЦ \"Мега\"</td>\n",
       "      <td>2</td>\n",
       "      <td>Аксессуары - XBOX 360</td>\n",
       "      <td>6</td>\n",
       "      <td>X360: Super ZOOM [только для Kinect]</td>\n",
       "      <td>7882</td>\n",
       "      <td>12.07.2013</td>\n",
       "      <td>6</td>\n",
       "      <td>1390.00</td>\n",
       "      <td>-1.0</td>\n",
       "    </tr>\n",
       "    <tr>\n",
       "      <th>16589</th>\n",
       "      <td>Адыгея ТЦ \"Мега\"</td>\n",
       "      <td>2</td>\n",
       "      <td>Аксессуары - XBOX 360</td>\n",
       "      <td>6</td>\n",
       "      <td>X360: Геймпад проводной чёрный - Controller BL...</td>\n",
       "      <td>7894</td>\n",
       "      <td>23.02.2014</td>\n",
       "      <td>13</td>\n",
       "      <td>1490.00</td>\n",
       "      <td>-1.0</td>\n",
       "    </tr>\n",
       "    <tr>\n",
       "      <th>...</th>\n",
       "      <td>...</td>\n",
       "      <td>...</td>\n",
       "      <td>...</td>\n",
       "      <td>...</td>\n",
       "      <td>...</td>\n",
       "      <td>...</td>\n",
       "      <td>...</td>\n",
       "      <td>...</td>\n",
       "      <td>...</td>\n",
       "      <td>...</td>\n",
       "    </tr>\n",
       "    <tr>\n",
       "      <th>2934435</th>\n",
       "      <td>Ярославль ТЦ \"Альтаир\"</td>\n",
       "      <td>59</td>\n",
       "      <td>Программы - 1С:Предприятие 8</td>\n",
       "      <td>73</td>\n",
       "      <td>1С:Бухгалтерия 8. Базовая версия</td>\n",
       "      <td>482</td>\n",
       "      <td>13.11.2013</td>\n",
       "      <td>10</td>\n",
       "      <td>3300.00</td>\n",
       "      <td>-1.0</td>\n",
       "    </tr>\n",
       "    <tr>\n",
       "      <th>2934499</th>\n",
       "      <td>Ярославль ТЦ \"Альтаир\"</td>\n",
       "      <td>59</td>\n",
       "      <td>Программы - 1С:Предприятие 8</td>\n",
       "      <td>73</td>\n",
       "      <td>1С:Предпр.8.2.Версия для обучения программиров...</td>\n",
       "      <td>791</td>\n",
       "      <td>01.02.2013</td>\n",
       "      <td>1</td>\n",
       "      <td>600.00</td>\n",
       "      <td>-1.0</td>\n",
       "    </tr>\n",
       "    <tr>\n",
       "      <th>2934524</th>\n",
       "      <td>Ярославль ТЦ \"Альтаир\"</td>\n",
       "      <td>59</td>\n",
       "      <td>Программы - 1С:Предприятие 8</td>\n",
       "      <td>73</td>\n",
       "      <td>1С:Управление торговлей 8. Базовая версия</td>\n",
       "      <td>835</td>\n",
       "      <td>05.03.2014</td>\n",
       "      <td>14</td>\n",
       "      <td>4600.00</td>\n",
       "      <td>-1.0</td>\n",
       "    </tr>\n",
       "    <tr>\n",
       "      <th>2934594</th>\n",
       "      <td>Ярославль ТЦ \"Альтаир\"</td>\n",
       "      <td>59</td>\n",
       "      <td>Программы - Для дома и офиса</td>\n",
       "      <td>75</td>\n",
       "      <td>ESET NOD32 Smart Security - продление лицензии...</td>\n",
       "      <td>3141</td>\n",
       "      <td>12.03.2014</td>\n",
       "      <td>14</td>\n",
       "      <td>1180.00</td>\n",
       "      <td>-1.0</td>\n",
       "    </tr>\n",
       "    <tr>\n",
       "      <th>2935249</th>\n",
       "      <td>Ярославль ТЦ \"Альтаир\"</td>\n",
       "      <td>59</td>\n",
       "      <td>Программы - Для дома и офиса</td>\n",
       "      <td>75</td>\n",
       "      <td>Антивирус ESET NOD32 - продление лицензии на 1...</td>\n",
       "      <td>8528</td>\n",
       "      <td>05.03.2013</td>\n",
       "      <td>2</td>\n",
       "      <td>790.00</td>\n",
       "      <td>-1.0</td>\n",
       "    </tr>\n",
       "  </tbody>\n",
       "</table>\n",
       "<p>7356 rows × 10 columns</p>\n",
       "</div>"
      ],
      "text/plain": [
       "                      shop_name  shop_id            item_category_name  \\\n",
       "15728          Адыгея ТЦ \"Мега\"        2              Аксессуары - PS3   \n",
       "15757          Адыгея ТЦ \"Мега\"        2              Аксессуары - PS3   \n",
       "15771          Адыгея ТЦ \"Мега\"        2              Аксессуары - PS3   \n",
       "16462          Адыгея ТЦ \"Мега\"        2         Аксессуары - XBOX 360   \n",
       "16589          Адыгея ТЦ \"Мега\"        2         Аксессуары - XBOX 360   \n",
       "...                         ...      ...                           ...   \n",
       "2934435  Ярославль ТЦ \"Альтаир\"       59  Программы - 1С:Предприятие 8   \n",
       "2934499  Ярославль ТЦ \"Альтаир\"       59  Программы - 1С:Предприятие 8   \n",
       "2934524  Ярославль ТЦ \"Альтаир\"       59  Программы - 1С:Предприятие 8   \n",
       "2934594  Ярославль ТЦ \"Альтаир\"       59  Программы - Для дома и офиса   \n",
       "2935249  Ярославль ТЦ \"Альтаир\"       59  Программы - Для дома и офиса   \n",
       "\n",
       "         item_category_id                                          item_name  \\\n",
       "15728                   2  PS3: Контроллер игровой беспроводной серый мет...   \n",
       "15757                   2  PS3: Контроллер игровой беспроводной темно-кра...   \n",
       "15771                   2  PS3: Контроллер игровой беспроводной черный (D...   \n",
       "16462                   6               X360: Super ZOOM [только для Kinect]   \n",
       "16589                   6  X360: Геймпад проводной чёрный - Controller BL...   \n",
       "...                   ...                                                ...   \n",
       "2934435                73                   1С:Бухгалтерия 8. Базовая версия   \n",
       "2934499                73  1С:Предпр.8.2.Версия для обучения программиров...   \n",
       "2934524                73          1С:Управление торговлей 8. Базовая версия   \n",
       "2934594                75  ESET NOD32 Smart Security - продление лицензии...   \n",
       "2935249                75  Антивирус ESET NOD32 - продление лицензии на 1...   \n",
       "\n",
       "         item_id        date  date_block_num  item_price  item_cnt_day  \n",
       "15728       5637  06.10.2013               9     2590.00          -1.0  \n",
       "15757       5642  01.12.2013              11     2490.00          -1.0  \n",
       "15771       5643  02.01.2013               0     2385.21          -1.0  \n",
       "16462       7882  12.07.2013               6     1390.00          -1.0  \n",
       "16589       7894  23.02.2014              13     1490.00          -1.0  \n",
       "...          ...         ...             ...         ...           ...  \n",
       "2934435      482  13.11.2013              10     3300.00          -1.0  \n",
       "2934499      791  01.02.2013               1      600.00          -1.0  \n",
       "2934524      835  05.03.2014              14     4600.00          -1.0  \n",
       "2934594     3141  12.03.2014              14     1180.00          -1.0  \n",
       "2935249     8528  05.03.2013               2      790.00          -1.0  \n",
       "\n",
       "[7356 rows x 10 columns]"
      ]
     },
     "execution_count": 195,
     "metadata": {},
     "output_type": "execute_result"
    }
   ],
   "source": [
    "negative_item_cnt_day=train_set[train_set[\"item_cnt_day\"] < 0]\n",
    "negative_item_cnt_day"
   ]
  },
  {
   "cell_type": "markdown",
   "id": "f099ed09",
   "metadata": {},
   "source": [
    "There are 7356 rows which have the value of -1 for item_cnt_day, since our task is to predict the sales for the next month our focus should be on sales and not on the return. We will keep these rows in the data set because it can play a siginifacant factor to correctly predict and understand sales but we will replace the -1 with 0."
   ]
  },
  {
   "cell_type": "code",
   "execution_count": 196,
   "id": "d68b161a",
   "metadata": {},
   "outputs": [
    {
     "data": {
      "text/plain": [
       "0"
      ]
     },
     "execution_count": 196,
     "metadata": {},
     "output_type": "execute_result"
    }
   ],
   "source": [
    "cond = train_set['item_cnt_day'] < 0\n",
    "check= train_set.loc[cond,'item_cnt_day'] = 0\n",
    "check\n"
   ]
  },
  {
   "cell_type": "markdown",
   "id": "08160ce4",
   "metadata": {},
   "source": [
    "This shows we have successfully replaced all the -1's with 0's.¶"
   ]
  },
  {
   "cell_type": "code",
   "execution_count": null,
   "id": "4749834c",
   "metadata": {},
   "outputs": [],
   "source": []
  },
  {
   "cell_type": "markdown",
   "id": "a8ac1a01",
   "metadata": {},
   "source": [
    "### To check for outliers"
   ]
  },
  {
   "cell_type": "markdown",
   "id": "f9e5b729",
   "metadata": {},
   "source": [
    "#### Outliers in item_price"
   ]
  },
  {
   "cell_type": "code",
   "execution_count": 197,
   "id": "38fcff88",
   "metadata": {},
   "outputs": [
    {
     "data": {
      "text/plain": [
       "Text(0.5, 1.0, 'Outliers in item_price')"
      ]
     },
     "execution_count": 197,
     "metadata": {},
     "output_type": "execute_result"
    },
    {
     "data": {
      "image/png": "[encoded data removed]",
      "text/plain": [
       "<Figure size 504x792 with 1 Axes>"
      ]
     },
     "metadata": {},
     "output_type": "display_data"
    }
   ],
   "source": [
    "plt.figure(figsize=(7, 11))\n",
    "train_set.boxplot(['item_price'])\n",
    "plt.title('Outliers in item_price', fontsize = 40)"
   ]
  },
  {
   "cell_type": "markdown",
   "id": "cd9cf35d",
   "metadata": {},
   "source": [
    "There are several in item_price outliers and these values should be explored further."
   ]
  },
  {
   "cell_type": "code",
   "execution_count": 198,
   "id": "53d73e03",
   "metadata": {},
   "outputs": [
    {
     "name": "stdout",
     "output_type": "stream",
     "text": [
      "Maximum possible price 6080.2527912390315\n",
      "Lowest possible price -4298.545065560299\n"
     ]
    }
   ],
   "source": [
    "# To find the highest possible price within 3 standard deviation\n",
    "print(\"Maximum possible price\",train_set['item_price'].mean() + 3*train_set['item_price'].std())\n",
    "print(\"Lowest possible price\",train_set['item_price'].mean() - 3*train_set['item_price'].std())\n"
   ]
  },
  {
   "cell_type": "code",
   "execution_count": 199,
   "id": "16c4544e",
   "metadata": {},
   "outputs": [
    {
     "name": "stdout",
     "output_type": "stream",
     "text": [
      "Highest price : 307980.0\n",
      "Lowest price:  0.07\n"
     ]
    }
   ],
   "source": [
    "# To check the highest and lowest price in our dataset\n",
    "hp=max(train_set.item_price)\n",
    "print(\"Highest price :\", hp)\n",
    "lp=min(train_set.item_price)\n",
    "print(\"Lowest price: \", lp)"
   ]
  },
  {
   "cell_type": "code",
   "execution_count": 200,
   "id": "998afc01",
   "metadata": {},
   "outputs": [
    {
     "data": {
      "text/html": [
       "<div>\n",
       "<style scoped>\n",
       "    .dataframe tbody tr th:only-of-type {\n",
       "        vertical-align: middle;\n",
       "    }\n",
       "\n",
       "    .dataframe tbody tr th {\n",
       "        vertical-align: top;\n",
       "    }\n",
       "\n",
       "    .dataframe thead th {\n",
       "        text-align: right;\n",
       "    }\n",
       "</style>\n",
       "<table border=\"1\" class=\"dataframe\">\n",
       "  <thead>\n",
       "    <tr style=\"text-align: right;\">\n",
       "      <th></th>\n",
       "      <th>shop_name</th>\n",
       "      <th>shop_id</th>\n",
       "      <th>item_category_name</th>\n",
       "      <th>item_category_id</th>\n",
       "      <th>item_name</th>\n",
       "      <th>item_id</th>\n",
       "      <th>date</th>\n",
       "      <th>date_block_num</th>\n",
       "      <th>item_price</th>\n",
       "      <th>item_cnt_day</th>\n",
       "    </tr>\n",
       "  </thead>\n",
       "  <tbody>\n",
       "    <tr>\n",
       "      <th>310</th>\n",
       "      <td>!Якутск Орджоникидзе, 56 фран</td>\n",
       "      <td>0</td>\n",
       "      <td>Аксессуары - XBOX 360</td>\n",
       "      <td>6</td>\n",
       "      <td>Xbox 360 Kinect Sensor Xbox 360 CS/EL/HU/PL/RU...</td>\n",
       "      <td>7956</td>\n",
       "      <td>18.01.2013</td>\n",
       "      <td>0</td>\n",
       "      <td>6254.00</td>\n",
       "      <td>2.0</td>\n",
       "    </tr>\n",
       "    <tr>\n",
       "      <th>311</th>\n",
       "      <td>!Якутск Орджоникидзе, 56 фран</td>\n",
       "      <td>0</td>\n",
       "      <td>Аксессуары - XBOX 360</td>\n",
       "      <td>6</td>\n",
       "      <td>Xbox 360 Kinect Sensor Xbox 360 CS/EL/HU/PL/RU...</td>\n",
       "      <td>7956</td>\n",
       "      <td>19.01.2013</td>\n",
       "      <td>0</td>\n",
       "      <td>6254.00</td>\n",
       "      <td>1.0</td>\n",
       "    </tr>\n",
       "    <tr>\n",
       "      <th>312</th>\n",
       "      <td>!Якутск Орджоникидзе, 56 фран</td>\n",
       "      <td>0</td>\n",
       "      <td>Аксессуары - XBOX 360</td>\n",
       "      <td>6</td>\n",
       "      <td>Xbox 360 Kinect Sensor Xbox 360 CS/EL/HU/PL/RU...</td>\n",
       "      <td>7956</td>\n",
       "      <td>30.01.2013</td>\n",
       "      <td>0</td>\n",
       "      <td>6254.00</td>\n",
       "      <td>3.0</td>\n",
       "    </tr>\n",
       "    <tr>\n",
       "      <th>313</th>\n",
       "      <td>!Якутск Орджоникидзе, 56 фран</td>\n",
       "      <td>0</td>\n",
       "      <td>Аксессуары - XBOX 360</td>\n",
       "      <td>6</td>\n",
       "      <td>Xbox 360 Kinect Sensor Xbox 360 CS/EL/HU/PL/RU...</td>\n",
       "      <td>7956</td>\n",
       "      <td>31.01.2013</td>\n",
       "      <td>0</td>\n",
       "      <td>6254.00</td>\n",
       "      <td>1.0</td>\n",
       "    </tr>\n",
       "    <tr>\n",
       "      <th>314</th>\n",
       "      <td>!Якутск Орджоникидзе, 56 фран</td>\n",
       "      <td>0</td>\n",
       "      <td>Аксессуары - XBOX 360</td>\n",
       "      <td>6</td>\n",
       "      <td>Xbox 360 Kinect Sensor Xbox 360 CS/EL/HU/PL/RU...</td>\n",
       "      <td>7956</td>\n",
       "      <td>10.02.2013</td>\n",
       "      <td>1</td>\n",
       "      <td>6254.00</td>\n",
       "      <td>1.0</td>\n",
       "    </tr>\n",
       "    <tr>\n",
       "      <th>...</th>\n",
       "      <td>...</td>\n",
       "      <td>...</td>\n",
       "      <td>...</td>\n",
       "      <td>...</td>\n",
       "      <td>...</td>\n",
       "      <td>...</td>\n",
       "      <td>...</td>\n",
       "      <td>...</td>\n",
       "      <td>...</td>\n",
       "      <td>...</td>\n",
       "    </tr>\n",
       "    <tr>\n",
       "      <th>2929953</th>\n",
       "      <td>Ярославль ТЦ \"Альтаир\"</td>\n",
       "      <td>59</td>\n",
       "      <td>Подарки - Гаджеты, роботы, спорт</td>\n",
       "      <td>62</td>\n",
       "      <td>Шпионский танк Spy-C Танк</td>\n",
       "      <td>21994</td>\n",
       "      <td>10.03.2013</td>\n",
       "      <td>2</td>\n",
       "      <td>6648.35</td>\n",
       "      <td>1.0</td>\n",
       "    </tr>\n",
       "    <tr>\n",
       "      <th>2935213</th>\n",
       "      <td>Ярославль ТЦ \"Альтаир\"</td>\n",
       "      <td>59</td>\n",
       "      <td>Программы - Для дома и офиса</td>\n",
       "      <td>75</td>\n",
       "      <td>Win 8.1 32-bit/64-bit Russian Russia Only DVD</td>\n",
       "      <td>7812</td>\n",
       "      <td>15.08.2015</td>\n",
       "      <td>31</td>\n",
       "      <td>6290.00</td>\n",
       "      <td>1.0</td>\n",
       "    </tr>\n",
       "    <tr>\n",
       "      <th>2935214</th>\n",
       "      <td>Ярославль ТЦ \"Альтаир\"</td>\n",
       "      <td>59</td>\n",
       "      <td>Программы - Для дома и офиса</td>\n",
       "      <td>75</td>\n",
       "      <td>Win 8.1 32-bit/64-bit Russian Russia Only DVD</td>\n",
       "      <td>7812</td>\n",
       "      <td>25.09.2015</td>\n",
       "      <td>32</td>\n",
       "      <td>6390.00</td>\n",
       "      <td>1.0</td>\n",
       "    </tr>\n",
       "    <tr>\n",
       "      <th>2935215</th>\n",
       "      <td>Ярославль ТЦ \"Альтаир\"</td>\n",
       "      <td>59</td>\n",
       "      <td>Программы - Для дома и офиса</td>\n",
       "      <td>75</td>\n",
       "      <td>Win 8.1 32-bit/64-bit Russian Russia Only DVD</td>\n",
       "      <td>7812</td>\n",
       "      <td>07.09.2015</td>\n",
       "      <td>32</td>\n",
       "      <td>6290.00</td>\n",
       "      <td>1.0</td>\n",
       "    </tr>\n",
       "    <tr>\n",
       "      <th>2935231</th>\n",
       "      <td>Ярославль ТЦ \"Альтаир\"</td>\n",
       "      <td>59</td>\n",
       "      <td>Программы - Для дома и офиса</td>\n",
       "      <td>75</td>\n",
       "      <td>Win Home Prem 7 Russian Russia Only DVD</td>\n",
       "      <td>7815</td>\n",
       "      <td>20.12.2014</td>\n",
       "      <td>23</td>\n",
       "      <td>6890.00</td>\n",
       "      <td>1.0</td>\n",
       "    </tr>\n",
       "  </tbody>\n",
       "</table>\n",
       "<p>28701 rows × 10 columns</p>\n",
       "</div>"
      ],
      "text/plain": [
       "                             shop_name  shop_id  \\\n",
       "310      !Якутск Орджоникидзе, 56 фран        0   \n",
       "311      !Якутск Орджоникидзе, 56 фран        0   \n",
       "312      !Якутск Орджоникидзе, 56 фран        0   \n",
       "313      !Якутск Орджоникидзе, 56 фран        0   \n",
       "314      !Якутск Орджоникидзе, 56 фран        0   \n",
       "...                                ...      ...   \n",
       "2929953         Ярославль ТЦ \"Альтаир\"       59   \n",
       "2935213         Ярославль ТЦ \"Альтаир\"       59   \n",
       "2935214         Ярославль ТЦ \"Альтаир\"       59   \n",
       "2935215         Ярославль ТЦ \"Альтаир\"       59   \n",
       "2935231         Ярославль ТЦ \"Альтаир\"       59   \n",
       "\n",
       "                       item_category_name  item_category_id  \\\n",
       "310                 Аксессуары - XBOX 360                 6   \n",
       "311                 Аксессуары - XBOX 360                 6   \n",
       "312                 Аксессуары - XBOX 360                 6   \n",
       "313                 Аксессуары - XBOX 360                 6   \n",
       "314                 Аксессуары - XBOX 360                 6   \n",
       "...                                   ...               ...   \n",
       "2929953  Подарки - Гаджеты, роботы, спорт                62   \n",
       "2935213      Программы - Для дома и офиса                75   \n",
       "2935214      Программы - Для дома и офиса                75   \n",
       "2935215      Программы - Для дома и офиса                75   \n",
       "2935231      Программы - Для дома и офиса                75   \n",
       "\n",
       "                                                 item_name  item_id  \\\n",
       "310      Xbox 360 Kinect Sensor Xbox 360 CS/EL/HU/PL/RU...     7956   \n",
       "311      Xbox 360 Kinect Sensor Xbox 360 CS/EL/HU/PL/RU...     7956   \n",
       "312      Xbox 360 Kinect Sensor Xbox 360 CS/EL/HU/PL/RU...     7956   \n",
       "313      Xbox 360 Kinect Sensor Xbox 360 CS/EL/HU/PL/RU...     7956   \n",
       "314      Xbox 360 Kinect Sensor Xbox 360 CS/EL/HU/PL/RU...     7956   \n",
       "...                                                    ...      ...   \n",
       "2929953                          Шпионский танк Spy-C Танк    21994   \n",
       "2935213      Win 8.1 32-bit/64-bit Russian Russia Only DVD     7812   \n",
       "2935214      Win 8.1 32-bit/64-bit Russian Russia Only DVD     7812   \n",
       "2935215      Win 8.1 32-bit/64-bit Russian Russia Only DVD     7812   \n",
       "2935231            Win Home Prem 7 Russian Russia Only DVD     7815   \n",
       "\n",
       "               date  date_block_num  item_price  item_cnt_day  \n",
       "310      18.01.2013               0     6254.00           2.0  \n",
       "311      19.01.2013               0     6254.00           1.0  \n",
       "312      30.01.2013               0     6254.00           3.0  \n",
       "313      31.01.2013               0     6254.00           1.0  \n",
       "314      10.02.2013               1     6254.00           1.0  \n",
       "...             ...             ...         ...           ...  \n",
       "2929953  10.03.2013               2     6648.35           1.0  \n",
       "2935213  15.08.2015              31     6290.00           1.0  \n",
       "2935214  25.09.2015              32     6390.00           1.0  \n",
       "2935215  07.09.2015              32     6290.00           1.0  \n",
       "2935231  20.12.2014              23     6890.00           1.0  \n",
       "\n",
       "[28701 rows x 10 columns]"
      ]
     },
     "execution_count": 200,
     "metadata": {},
     "output_type": "execute_result"
    }
   ],
   "source": [
    "# Since our lowest selling price is 0.07 we will check the outliers on the higher side\n",
    "highest_price=train_set[train_set[\"item_price\"] > 6080]\n",
    "highest_price"
   ]
  },
  {
   "cell_type": "markdown",
   "id": "c89b173e",
   "metadata": {},
   "source": [
    "There are 28701 records with a price of higher than $6080, and it is not suggested to drop all these values, especially considering that the fact that the data pertains to many different products. It is highly possible that the shops have a wide range of products with different prices so we will only eliminate the extreme outliers for item_price"
   ]
  },
  {
   "cell_type": "code",
   "execution_count": 201,
   "id": "20bc45a4",
   "metadata": {},
   "outputs": [],
   "source": [
    "# To drop the outlier in item_price\n",
    "train_set = train_set[train_set['item_price'] < 100000]"
   ]
  },
  {
   "cell_type": "markdown",
   "id": "22b55f30",
   "metadata": {},
   "source": [
    "#### Outlier in item_cnt_day"
   ]
  },
  {
   "cell_type": "code",
   "execution_count": 202,
   "id": "68c5be91",
   "metadata": {},
   "outputs": [
    {
     "data": {
      "text/plain": [
       "Text(0.5, 1.0, 'Outliers in item_cnt_day')"
      ]
     },
     "execution_count": 202,
     "metadata": {},
     "output_type": "execute_result"
    },
    {
     "data": {
      "image/png": "[encoded data removed]",
      "text/plain": [
       "<Figure size 720x1080 with 1 Axes>"
      ]
     },
     "metadata": {},
     "output_type": "display_data"
    }
   ],
   "source": [
    "plt.figure(figsize=(10, 15))\n",
    "train_set.boxplot(['item_cnt_day'])\n",
    "plt.title('Outliers in item_cnt_day', fontsize = 40)\n"
   ]
  },
  {
   "cell_type": "markdown",
   "id": "0417c65c",
   "metadata": {},
   "source": [
    "There are several outliers in item_cnt_day and should be explored further"
   ]
  },
  {
   "cell_type": "code",
   "execution_count": 203,
   "id": "44cce4cd",
   "metadata": {},
   "outputs": [
    {
     "name": "stdout",
     "output_type": "stream",
     "text": [
      "Maximum possible number of products sold 9.096348775703945\n",
      "Lowest possible number of products sold -6.605929653188066\n"
     ]
    }
   ],
   "source": [
    "# To find the highest and lowest possible nuber of products sold within 3 standard deviation\n",
    "print(\"Maximum possible number of products sold\",train_set['item_cnt_day'].mean() + 3*train_set['item_cnt_day'].std())\n",
    "print(\"Lowest possible number of products sold\",train_set['item_cnt_day'].mean() - 3*train_set['item_cnt_day'].std())\n"
   ]
  },
  {
   "cell_type": "code",
   "execution_count": 204,
   "id": "3aa79f76",
   "metadata": {},
   "outputs": [
    {
     "name": "stdout",
     "output_type": "stream",
     "text": [
      "Highest number of products sold : 2169.0\n",
      "Lowest number of products sold:  0.0\n"
     ]
    }
   ],
   "source": [
    "# To check for maximum and lowest number of products sold\n",
    "hps=max(train_set.item_cnt_day)\n",
    "print(\"Highest number of products sold :\", hps)\n",
    "lps=min(train_set.item_cnt_day)\n",
    "print(\"Lowest number of products sold: \", lps)"
   ]
  },
  {
   "cell_type": "code",
   "execution_count": 205,
   "id": "c7beb677",
   "metadata": {},
   "outputs": [
    {
     "data": {
      "text/html": [
       "<div>\n",
       "<style scoped>\n",
       "    .dataframe tbody tr th:only-of-type {\n",
       "        vertical-align: middle;\n",
       "    }\n",
       "\n",
       "    .dataframe tbody tr th {\n",
       "        vertical-align: top;\n",
       "    }\n",
       "\n",
       "    .dataframe thead th {\n",
       "        text-align: right;\n",
       "    }\n",
       "</style>\n",
       "<table border=\"1\" class=\"dataframe\">\n",
       "  <thead>\n",
       "    <tr style=\"text-align: right;\">\n",
       "      <th></th>\n",
       "      <th>shop_name</th>\n",
       "      <th>shop_id</th>\n",
       "      <th>item_category_name</th>\n",
       "      <th>item_category_id</th>\n",
       "      <th>item_name</th>\n",
       "      <th>item_id</th>\n",
       "      <th>date</th>\n",
       "      <th>date_block_num</th>\n",
       "      <th>item_price</th>\n",
       "      <th>item_cnt_day</th>\n",
       "    </tr>\n",
       "  </thead>\n",
       "  <tbody>\n",
       "    <tr>\n",
       "      <th>2556</th>\n",
       "      <td>!Якутск Орджоникидзе, 56 фран</td>\n",
       "      <td>0</td>\n",
       "      <td>Игры PC - Стандартные издания</td>\n",
       "      <td>30</td>\n",
       "      <td>Crysis 3 [PC, русская версия]</td>\n",
       "      <td>2445</td>\n",
       "      <td>22.02.2013</td>\n",
       "      <td>1</td>\n",
       "      <td>942.0</td>\n",
       "      <td>10.0</td>\n",
       "    </tr>\n",
       "    <tr>\n",
       "      <th>4943</th>\n",
       "      <td>!Якутск Орджоникидзе, 56 фран</td>\n",
       "      <td>0</td>\n",
       "      <td>Кино - DVD</td>\n",
       "      <td>40</td>\n",
       "      <td>ДЖЕНТЛЬМЕНЫ, УДАЧИ!</td>\n",
       "      <td>11000</td>\n",
       "      <td>16.02.2013</td>\n",
       "      <td>1</td>\n",
       "      <td>247.0</td>\n",
       "      <td>11.0</td>\n",
       "    </tr>\n",
       "    <tr>\n",
       "      <th>5993</th>\n",
       "      <td>!Якутск Орджоникидзе, 56 фран</td>\n",
       "      <td>0</td>\n",
       "      <td>Кино - DVD</td>\n",
       "      <td>40</td>\n",
       "      <td>ОГРАБЛЕНИЕ КАЗИНО</td>\n",
       "      <td>16482</td>\n",
       "      <td>02.02.2013</td>\n",
       "      <td>1</td>\n",
       "      <td>247.0</td>\n",
       "      <td>10.0</td>\n",
       "    </tr>\n",
       "    <tr>\n",
       "      <th>15443</th>\n",
       "      <td>!Якутск ТЦ \"Центральный\" фран</td>\n",
       "      <td>1</td>\n",
       "      <td>Чистые носители (штучные)</td>\n",
       "      <td>82</td>\n",
       "      <td>Компактдиск Mirex CD-R 700 Мб 52x Slim case MA...</td>\n",
       "      <td>13345</td>\n",
       "      <td>25.01.2013</td>\n",
       "      <td>0</td>\n",
       "      <td>13.0</td>\n",
       "      <td>11.0</td>\n",
       "    </tr>\n",
       "    <tr>\n",
       "      <th>15464</th>\n",
       "      <td>!Якутск ТЦ \"Центральный\" фран</td>\n",
       "      <td>1</td>\n",
       "      <td>Чистые носители (штучные)</td>\n",
       "      <td>82</td>\n",
       "      <td>Компактдиск Mirex DVD+R Dual Layer 8,5 Гб 8x S...</td>\n",
       "      <td>13351</td>\n",
       "      <td>17.01.2013</td>\n",
       "      <td>0</td>\n",
       "      <td>41.0</td>\n",
       "      <td>13.0</td>\n",
       "    </tr>\n",
       "    <tr>\n",
       "      <th>...</th>\n",
       "      <td>...</td>\n",
       "      <td>...</td>\n",
       "      <td>...</td>\n",
       "      <td>...</td>\n",
       "      <td>...</td>\n",
       "      <td>...</td>\n",
       "      <td>...</td>\n",
       "      <td>...</td>\n",
       "      <td>...</td>\n",
       "      <td>...</td>\n",
       "    </tr>\n",
       "    <tr>\n",
       "      <th>2933480</th>\n",
       "      <td>Ярославль ТЦ \"Альтаир\"</td>\n",
       "      <td>59</td>\n",
       "      <td>Подарки - Сумки, Альбомы, Коврики д/мыши</td>\n",
       "      <td>71</td>\n",
       "      <td>Фирменный пакет майка 1С Интерес белый (34*42)...</td>\n",
       "      <td>20949</td>\n",
       "      <td>05.10.2013</td>\n",
       "      <td>9</td>\n",
       "      <td>5.0</td>\n",
       "      <td>12.0</td>\n",
       "    </tr>\n",
       "    <tr>\n",
       "      <th>2933523</th>\n",
       "      <td>Ярославль ТЦ \"Альтаир\"</td>\n",
       "      <td>59</td>\n",
       "      <td>Подарки - Сумки, Альбомы, Коврики д/мыши</td>\n",
       "      <td>71</td>\n",
       "      <td>Фирменный пакет майка 1С Интерес белый (34*42)...</td>\n",
       "      <td>20949</td>\n",
       "      <td>28.12.2013</td>\n",
       "      <td>11</td>\n",
       "      <td>5.0</td>\n",
       "      <td>13.0</td>\n",
       "    </tr>\n",
       "    <tr>\n",
       "      <th>2933825</th>\n",
       "      <td>Ярославль ТЦ \"Альтаир\"</td>\n",
       "      <td>59</td>\n",
       "      <td>Подарки - Сумки, Альбомы, Коврики д/мыши</td>\n",
       "      <td>71</td>\n",
       "      <td>Фирменный пакет майка 1С Интерес белый (34*42)...</td>\n",
       "      <td>20949</td>\n",
       "      <td>29.11.2014</td>\n",
       "      <td>22</td>\n",
       "      <td>5.0</td>\n",
       "      <td>10.0</td>\n",
       "    </tr>\n",
       "    <tr>\n",
       "      <th>2933908</th>\n",
       "      <td>Ярославль ТЦ \"Альтаир\"</td>\n",
       "      <td>59</td>\n",
       "      <td>Подарки - Сумки, Альбомы, Коврики д/мыши</td>\n",
       "      <td>71</td>\n",
       "      <td>Фирменный пакет майка 1С Интерес белый (34*42)...</td>\n",
       "      <td>20949</td>\n",
       "      <td>14.02.2015</td>\n",
       "      <td>25</td>\n",
       "      <td>5.0</td>\n",
       "      <td>13.0</td>\n",
       "    </tr>\n",
       "    <tr>\n",
       "      <th>2933917</th>\n",
       "      <td>Ярославль ТЦ \"Альтаир\"</td>\n",
       "      <td>59</td>\n",
       "      <td>Подарки - Сумки, Альбомы, Коврики д/мыши</td>\n",
       "      <td>71</td>\n",
       "      <td>Фирменный пакет майка 1С Интерес белый (34*42)...</td>\n",
       "      <td>20949</td>\n",
       "      <td>22.02.2015</td>\n",
       "      <td>25</td>\n",
       "      <td>5.0</td>\n",
       "      <td>14.0</td>\n",
       "    </tr>\n",
       "  </tbody>\n",
       "</table>\n",
       "<p>11936 rows × 10 columns</p>\n",
       "</div>"
      ],
      "text/plain": [
       "                             shop_name  shop_id  \\\n",
       "2556     !Якутск Орджоникидзе, 56 фран        0   \n",
       "4943     !Якутск Орджоникидзе, 56 фран        0   \n",
       "5993     !Якутск Орджоникидзе, 56 фран        0   \n",
       "15443    !Якутск ТЦ \"Центральный\" фран        1   \n",
       "15464    !Якутск ТЦ \"Центральный\" фран        1   \n",
       "...                                ...      ...   \n",
       "2933480         Ярославль ТЦ \"Альтаир\"       59   \n",
       "2933523         Ярославль ТЦ \"Альтаир\"       59   \n",
       "2933825         Ярославль ТЦ \"Альтаир\"       59   \n",
       "2933908         Ярославль ТЦ \"Альтаир\"       59   \n",
       "2933917         Ярославль ТЦ \"Альтаир\"       59   \n",
       "\n",
       "                               item_category_name  item_category_id  \\\n",
       "2556                Игры PC - Стандартные издания                30   \n",
       "4943                                   Кино - DVD                40   \n",
       "5993                                   Кино - DVD                40   \n",
       "15443                   Чистые носители (штучные)                82   \n",
       "15464                   Чистые носители (штучные)                82   \n",
       "...                                           ...               ...   \n",
       "2933480  Подарки - Сумки, Альбомы, Коврики д/мыши                71   \n",
       "2933523  Подарки - Сумки, Альбомы, Коврики д/мыши                71   \n",
       "2933825  Подарки - Сумки, Альбомы, Коврики д/мыши                71   \n",
       "2933908  Подарки - Сумки, Альбомы, Коврики д/мыши                71   \n",
       "2933917  Подарки - Сумки, Альбомы, Коврики д/мыши                71   \n",
       "\n",
       "                                                 item_name  item_id  \\\n",
       "2556                         Crysis 3 [PC, русская версия]     2445   \n",
       "4943                                   ДЖЕНТЛЬМЕНЫ, УДАЧИ!    11000   \n",
       "5993                                     ОГРАБЛЕНИЕ КАЗИНО    16482   \n",
       "15443    Компактдиск Mirex CD-R 700 Мб 52x Slim case MA...    13345   \n",
       "15464    Компактдиск Mirex DVD+R Dual Layer 8,5 Гб 8x S...    13351   \n",
       "...                                                    ...      ...   \n",
       "2933480  Фирменный пакет майка 1С Интерес белый (34*42)...    20949   \n",
       "2933523  Фирменный пакет майка 1С Интерес белый (34*42)...    20949   \n",
       "2933825  Фирменный пакет майка 1С Интерес белый (34*42)...    20949   \n",
       "2933908  Фирменный пакет майка 1С Интерес белый (34*42)...    20949   \n",
       "2933917  Фирменный пакет майка 1С Интерес белый (34*42)...    20949   \n",
       "\n",
       "               date  date_block_num  item_price  item_cnt_day  \n",
       "2556     22.02.2013               1       942.0          10.0  \n",
       "4943     16.02.2013               1       247.0          11.0  \n",
       "5993     02.02.2013               1       247.0          10.0  \n",
       "15443    25.01.2013               0        13.0          11.0  \n",
       "15464    17.01.2013               0        41.0          13.0  \n",
       "...             ...             ...         ...           ...  \n",
       "2933480  05.10.2013               9         5.0          12.0  \n",
       "2933523  28.12.2013              11         5.0          13.0  \n",
       "2933825  29.11.2014              22         5.0          10.0  \n",
       "2933908  14.02.2015              25         5.0          13.0  \n",
       "2933917  22.02.2015              25         5.0          14.0  \n",
       "\n",
       "[11936 rows x 10 columns]"
      ]
     },
     "execution_count": 205,
     "metadata": {},
     "output_type": "execute_result"
    }
   ],
   "source": [
    "# Since our lowest sold quantity is zero we will check the outliers on the higher side\n",
    "highest_price=train_set[train_set[\"item_cnt_day\"] > 9]\n",
    "highest_price"
   ]
  },
  {
   "cell_type": "markdown",
   "id": "4fff4574",
   "metadata": {},
   "source": [
    "There are 11936 records on which the items sold is greater than 9. To reduce the impact of outliers and still be able to capture the impact of these sales we will only eliminate the extreme outliers for item_cnt_day."
   ]
  },
  {
   "cell_type": "code",
   "execution_count": 206,
   "id": "af62b182",
   "metadata": {},
   "outputs": [],
   "source": [
    "# To drop the extreme outliers in item_cnt_day\n",
    "train_set = train_set[train_set['item_cnt_day'] < 1000]"
   ]
  },
  {
   "cell_type": "code",
   "execution_count": null,
   "id": "bd7bb678",
   "metadata": {},
   "outputs": [],
   "source": []
  },
  {
   "cell_type": "markdown",
   "id": "a0a7912b",
   "metadata": {},
   "source": [
    "### Creating new features and extracting date"
   ]
  },
  {
   "cell_type": "code",
   "execution_count": 207,
   "id": "48d4cb11",
   "metadata": {},
   "outputs": [],
   "source": [
    "train_set['Sales'] = (train_set[\"item_price\"] * train_set[\"item_cnt_day\"])"
   ]
  },
  {
   "cell_type": "code",
   "execution_count": 208,
   "id": "c53e89f5",
   "metadata": {},
   "outputs": [],
   "source": [
    "train_set['date'] = pd.to_datetime(train_set['date'])\n",
    "days = []\n",
    "months = []\n",
    "years = []\n",
    "\n",
    "for day in train_set['date']:\n",
    "    days.append(day.day)\n",
    "for month in train_set['date']:\n",
    "    months.append(month.month)    \n",
    "for year in train_set['date']:\n",
    "    years.append(year.year)"
   ]
  },
  {
   "cell_type": "markdown",
   "id": "d936d9f9",
   "metadata": {},
   "source": [
    "#### To find the year with highest sales"
   ]
  },
  {
   "cell_type": "code",
   "execution_count": 209,
   "id": "f45d0091",
   "metadata": {},
   "outputs": [
    {
     "data": {
      "image/png": "[encoded data removed]",
      "text/plain": [
       "<Figure size 720x720 with 1 Axes>"
      ]
     },
     "metadata": {},
     "output_type": "display_data"
    }
   ],
   "source": [
    "plt.figure(figsize=(10,10))\n",
    "sns.countplot(years)\n",
    "plt.title('Sales per Year', fontsize = 40)\n",
    "plt.xlabel('Year', fontsize = 25)\n",
    "plt.ylabel('Sales', fontsize = 25)\n",
    "plt.show()"
   ]
  },
  {
   "cell_type": "markdown",
   "id": "2429e540",
   "metadata": {},
   "source": [
    "This shows 2013 has the highest total sales."
   ]
  },
  {
   "cell_type": "code",
   "execution_count": null,
   "id": "6c4f3a0f",
   "metadata": {},
   "outputs": [],
   "source": []
  },
  {
   "cell_type": "markdown",
   "id": "238fe765",
   "metadata": {},
   "source": [
    "### To find the highest selling product"
   ]
  },
  {
   "cell_type": "code",
   "execution_count": 210,
   "id": "bfb1fca1",
   "metadata": {},
   "outputs": [
    {
     "data": {
      "image/png": "[encoded data removed]",
      "text/plain": [
       "<Figure size 2880x3600 with 1 Axes>"
      ]
     },
     "metadata": {},
     "output_type": "display_data"
    }
   ],
   "source": [
    "plt.figure(figsize=(40, 50))\n",
    "x= train_set['item_category_id']\n",
    "y= train_set['Sales']\n",
    "sns.barplot(x, y)\n",
    "plt.title('Highest Selling Product', fontsize = 60)\n",
    "plt.xlabel('Item categories', fontsize = 30)\n",
    "plt.ylabel('Sales', fontsize = 30)\n",
    "plt.show()"
   ]
  },
  {
   "cell_type": "markdown",
   "id": "3ef07ba5",
   "metadata": {},
   "source": [
    "The highest selling item category is 12, lets further explore the item_category_id 12"
   ]
  },
  {
   "cell_type": "code",
   "execution_count": 211,
   "id": "a91b297b",
   "metadata": {
    "scrolled": true
   },
   "outputs": [
    {
     "data": {
      "text/html": [
       "<div>\n",
       "<style scoped>\n",
       "    .dataframe tbody tr th:only-of-type {\n",
       "        vertical-align: middle;\n",
       "    }\n",
       "\n",
       "    .dataframe tbody tr th {\n",
       "        vertical-align: top;\n",
       "    }\n",
       "\n",
       "    .dataframe thead th {\n",
       "        text-align: right;\n",
       "    }\n",
       "</style>\n",
       "<table border=\"1\" class=\"dataframe\">\n",
       "  <thead>\n",
       "    <tr style=\"text-align: right;\">\n",
       "      <th></th>\n",
       "      <th>shop_name</th>\n",
       "      <th>shop_id</th>\n",
       "      <th>item_category_name</th>\n",
       "      <th>item_category_id</th>\n",
       "      <th>item_name</th>\n",
       "      <th>item_id</th>\n",
       "      <th>date</th>\n",
       "      <th>date_block_num</th>\n",
       "      <th>item_price</th>\n",
       "      <th>item_cnt_day</th>\n",
       "      <th>Sales</th>\n",
       "    </tr>\n",
       "  </thead>\n",
       "  <tbody>\n",
       "    <tr>\n",
       "      <th>16947</th>\n",
       "      <td>Адыгея ТЦ \"Мега\"</td>\n",
       "      <td>2</td>\n",
       "      <td>Игровые консоли - PS4</td>\n",
       "      <td>12</td>\n",
       "      <td>Sony PlayStation 4 (500 Gb) Black (CUH-1008A/1...</td>\n",
       "      <td>6675</td>\n",
       "      <td>2013-11-29</td>\n",
       "      <td>10</td>\n",
       "      <td>18323.333333</td>\n",
       "      <td>30.0</td>\n",
       "      <td>549699.999999</td>\n",
       "    </tr>\n",
       "    <tr>\n",
       "      <th>16948</th>\n",
       "      <td>Адыгея ТЦ \"Мега\"</td>\n",
       "      <td>2</td>\n",
       "      <td>Игровые консоли - PS4</td>\n",
       "      <td>12</td>\n",
       "      <td>Sony PlayStation 4 (500 Gb) Black (CUH-1008A/1...</td>\n",
       "      <td>6675</td>\n",
       "      <td>2013-11-30</td>\n",
       "      <td>10</td>\n",
       "      <td>17990.000000</td>\n",
       "      <td>5.0</td>\n",
       "      <td>89950.000000</td>\n",
       "    </tr>\n",
       "    <tr>\n",
       "      <th>16949</th>\n",
       "      <td>Адыгея ТЦ \"Мега\"</td>\n",
       "      <td>2</td>\n",
       "      <td>Игровые консоли - PS4</td>\n",
       "      <td>12</td>\n",
       "      <td>Sony PlayStation 4 (500 Gb) Black (CUH-1008A/1...</td>\n",
       "      <td>6675</td>\n",
       "      <td>2013-12-27</td>\n",
       "      <td>11</td>\n",
       "      <td>22990.000000</td>\n",
       "      <td>2.0</td>\n",
       "      <td>45980.000000</td>\n",
       "    </tr>\n",
       "    <tr>\n",
       "      <th>16950</th>\n",
       "      <td>Адыгея ТЦ \"Мега\"</td>\n",
       "      <td>2</td>\n",
       "      <td>Игровые консоли - PS4</td>\n",
       "      <td>12</td>\n",
       "      <td>Sony PlayStation 4 (500 Gb) Black (CUH-1008A/1...</td>\n",
       "      <td>6675</td>\n",
       "      <td>2013-12-28</td>\n",
       "      <td>11</td>\n",
       "      <td>27990.000000</td>\n",
       "      <td>2.0</td>\n",
       "      <td>55980.000000</td>\n",
       "    </tr>\n",
       "    <tr>\n",
       "      <th>16951</th>\n",
       "      <td>Адыгея ТЦ \"Мега\"</td>\n",
       "      <td>2</td>\n",
       "      <td>Игровые консоли - PS4</td>\n",
       "      <td>12</td>\n",
       "      <td>Sony PlayStation 4 (500 Gb) Black (CUH-1008A/1...</td>\n",
       "      <td>6675</td>\n",
       "      <td>2013-12-29</td>\n",
       "      <td>11</td>\n",
       "      <td>27990.000000</td>\n",
       "      <td>2.0</td>\n",
       "      <td>55980.000000</td>\n",
       "    </tr>\n",
       "    <tr>\n",
       "      <th>...</th>\n",
       "      <td>...</td>\n",
       "      <td>...</td>\n",
       "      <td>...</td>\n",
       "      <td>...</td>\n",
       "      <td>...</td>\n",
       "      <td>...</td>\n",
       "      <td>...</td>\n",
       "      <td>...</td>\n",
       "      <td>...</td>\n",
       "      <td>...</td>\n",
       "      <td>...</td>\n",
       "    </tr>\n",
       "    <tr>\n",
       "      <th>2895033</th>\n",
       "      <td>Ярославль ТЦ \"Альтаир\"</td>\n",
       "      <td>59</td>\n",
       "      <td>Игровые консоли - PS4</td>\n",
       "      <td>12</td>\n",
       "      <td>Комплект Sony PS4 (500 Gb) Black (CUH-1108A/B0...</td>\n",
       "      <td>13444</td>\n",
       "      <td>2014-09-15</td>\n",
       "      <td>20</td>\n",
       "      <td>22490.000000</td>\n",
       "      <td>1.0</td>\n",
       "      <td>22490.000000</td>\n",
       "    </tr>\n",
       "    <tr>\n",
       "      <th>2895034</th>\n",
       "      <td>Ярославль ТЦ \"Альтаир\"</td>\n",
       "      <td>59</td>\n",
       "      <td>Игровые консоли - PS4</td>\n",
       "      <td>12</td>\n",
       "      <td>Комплект Sony PS4 (500 Gb) Black (CUH-1108A/B0...</td>\n",
       "      <td>13444</td>\n",
       "      <td>2014-04-10</td>\n",
       "      <td>21</td>\n",
       "      <td>22490.000000</td>\n",
       "      <td>1.0</td>\n",
       "      <td>22490.000000</td>\n",
       "    </tr>\n",
       "    <tr>\n",
       "      <th>2895035</th>\n",
       "      <td>Ярославль ТЦ \"Альтаир\"</td>\n",
       "      <td>59</td>\n",
       "      <td>Игровые консоли - PS4</td>\n",
       "      <td>12</td>\n",
       "      <td>Комплект «Sony PS4 (500 Gb) Black (CUH-1108A/B...</td>\n",
       "      <td>13498</td>\n",
       "      <td>2014-11-17</td>\n",
       "      <td>22</td>\n",
       "      <td>20990.000000</td>\n",
       "      <td>1.0</td>\n",
       "      <td>20990.000000</td>\n",
       "    </tr>\n",
       "    <tr>\n",
       "      <th>2895036</th>\n",
       "      <td>Ярославль ТЦ \"Альтаир\"</td>\n",
       "      <td>59</td>\n",
       "      <td>Игровые консоли - PS4</td>\n",
       "      <td>12</td>\n",
       "      <td>Комплект «Sony PS4 (500 Gb) Black (CUH-1108A/B...</td>\n",
       "      <td>13498</td>\n",
       "      <td>2014-01-11</td>\n",
       "      <td>22</td>\n",
       "      <td>22490.000000</td>\n",
       "      <td>1.0</td>\n",
       "      <td>22490.000000</td>\n",
       "    </tr>\n",
       "    <tr>\n",
       "      <th>2895037</th>\n",
       "      <td>Ярославль ТЦ \"Альтаир\"</td>\n",
       "      <td>59</td>\n",
       "      <td>Игровые консоли - PS4</td>\n",
       "      <td>12</td>\n",
       "      <td>Комплект «Sony PS4 (500 Gb) Black (CUH-1108A/B...</td>\n",
       "      <td>13498</td>\n",
       "      <td>2014-12-16</td>\n",
       "      <td>23</td>\n",
       "      <td>20990.000000</td>\n",
       "      <td>1.0</td>\n",
       "      <td>20990.000000</td>\n",
       "    </tr>\n",
       "  </tbody>\n",
       "</table>\n",
       "<p>7402 rows × 11 columns</p>\n",
       "</div>"
      ],
      "text/plain": [
       "                      shop_name  shop_id     item_category_name  \\\n",
       "16947          Адыгея ТЦ \"Мега\"        2  Игровые консоли - PS4   \n",
       "16948          Адыгея ТЦ \"Мега\"        2  Игровые консоли - PS4   \n",
       "16949          Адыгея ТЦ \"Мега\"        2  Игровые консоли - PS4   \n",
       "16950          Адыгея ТЦ \"Мега\"        2  Игровые консоли - PS4   \n",
       "16951          Адыгея ТЦ \"Мега\"        2  Игровые консоли - PS4   \n",
       "...                         ...      ...                    ...   \n",
       "2895033  Ярославль ТЦ \"Альтаир\"       59  Игровые консоли - PS4   \n",
       "2895034  Ярославль ТЦ \"Альтаир\"       59  Игровые консоли - PS4   \n",
       "2895035  Ярославль ТЦ \"Альтаир\"       59  Игровые консоли - PS4   \n",
       "2895036  Ярославль ТЦ \"Альтаир\"       59  Игровые консоли - PS4   \n",
       "2895037  Ярославль ТЦ \"Альтаир\"       59  Игровые консоли - PS4   \n",
       "\n",
       "         item_category_id                                          item_name  \\\n",
       "16947                  12  Sony PlayStation 4 (500 Gb) Black (CUH-1008A/1...   \n",
       "16948                  12  Sony PlayStation 4 (500 Gb) Black (CUH-1008A/1...   \n",
       "16949                  12  Sony PlayStation 4 (500 Gb) Black (CUH-1008A/1...   \n",
       "16950                  12  Sony PlayStation 4 (500 Gb) Black (CUH-1008A/1...   \n",
       "16951                  12  Sony PlayStation 4 (500 Gb) Black (CUH-1008A/1...   \n",
       "...                   ...                                                ...   \n",
       "2895033                12  Комплект Sony PS4 (500 Gb) Black (CUH-1108A/B0...   \n",
       "2895034                12  Комплект Sony PS4 (500 Gb) Black (CUH-1108A/B0...   \n",
       "2895035                12  Комплект «Sony PS4 (500 Gb) Black (CUH-1108A/B...   \n",
       "2895036                12  Комплект «Sony PS4 (500 Gb) Black (CUH-1108A/B...   \n",
       "2895037                12  Комплект «Sony PS4 (500 Gb) Black (CUH-1108A/B...   \n",
       "\n",
       "         item_id       date  date_block_num    item_price  item_cnt_day  \\\n",
       "16947       6675 2013-11-29              10  18323.333333          30.0   \n",
       "16948       6675 2013-11-30              10  17990.000000           5.0   \n",
       "16949       6675 2013-12-27              11  22990.000000           2.0   \n",
       "16950       6675 2013-12-28              11  27990.000000           2.0   \n",
       "16951       6675 2013-12-29              11  27990.000000           2.0   \n",
       "...          ...        ...             ...           ...           ...   \n",
       "2895033    13444 2014-09-15              20  22490.000000           1.0   \n",
       "2895034    13444 2014-04-10              21  22490.000000           1.0   \n",
       "2895035    13498 2014-11-17              22  20990.000000           1.0   \n",
       "2895036    13498 2014-01-11              22  22490.000000           1.0   \n",
       "2895037    13498 2014-12-16              23  20990.000000           1.0   \n",
       "\n",
       "                 Sales  \n",
       "16947    549699.999999  \n",
       "16948     89950.000000  \n",
       "16949     45980.000000  \n",
       "16950     55980.000000  \n",
       "16951     55980.000000  \n",
       "...                ...  \n",
       "2895033   22490.000000  \n",
       "2895034   22490.000000  \n",
       "2895035   20990.000000  \n",
       "2895036   22490.000000  \n",
       "2895037   20990.000000  \n",
       "\n",
       "[7402 rows x 11 columns]"
      ]
     },
     "execution_count": 211,
     "metadata": {},
     "output_type": "execute_result"
    }
   ],
   "source": [
    "highest_selling_itemc= train_set.loc[train_set['item_category_id'] == 12]\n",
    "highest_selling_itemc"
   ]
  },
  {
   "cell_type": "markdown",
   "id": "3de2a790",
   "metadata": {},
   "source": [
    "The highest selling item category is Игровые консоли - PS4"
   ]
  },
  {
   "cell_type": "markdown",
   "id": "feb57a2d",
   "metadata": {},
   "source": [
    "### To find the shop with highest total sales"
   ]
  },
  {
   "cell_type": "code",
   "execution_count": 212,
   "id": "db47ef6a",
   "metadata": {},
   "outputs": [
    {
     "data": {
      "image/png": "[encoded data removed]",
      "text/plain": [
       "<Figure size 2880x3600 with 1 Axes>"
      ]
     },
     "metadata": {},
     "output_type": "display_data"
    }
   ],
   "source": [
    "plt.figure(figsize=(40, 50))\n",
    "x= train_set['shop_id']\n",
    "y= train_set['Sales']\n",
    "sns.barplot(x, y)\n",
    "plt.title('Highest Selling Shop', fontsize = 60)\n",
    "plt.xlabel('Shop_id', fontsize = 30)\n",
    "plt.ylabel('Sales', fontsize = 30)\n",
    "plt.show()"
   ]
  },
  {
   "cell_type": "markdown",
   "id": "e31087cb",
   "metadata": {},
   "source": [
    "The highest selling shop has the id of 9"
   ]
  },
  {
   "cell_type": "code",
   "execution_count": 213,
   "id": "b114c523",
   "metadata": {},
   "outputs": [
    {
     "data": {
      "text/html": [
       "<div>\n",
       "<style scoped>\n",
       "    .dataframe tbody tr th:only-of-type {\n",
       "        vertical-align: middle;\n",
       "    }\n",
       "\n",
       "    .dataframe tbody tr th {\n",
       "        vertical-align: top;\n",
       "    }\n",
       "\n",
       "    .dataframe thead th {\n",
       "        text-align: right;\n",
       "    }\n",
       "</style>\n",
       "<table border=\"1\" class=\"dataframe\">\n",
       "  <thead>\n",
       "    <tr style=\"text-align: right;\">\n",
       "      <th></th>\n",
       "      <th>shop_name</th>\n",
       "      <th>shop_id</th>\n",
       "      <th>item_category_name</th>\n",
       "      <th>item_category_id</th>\n",
       "      <th>item_name</th>\n",
       "      <th>item_id</th>\n",
       "      <th>date</th>\n",
       "      <th>date_block_num</th>\n",
       "      <th>item_price</th>\n",
       "      <th>item_cnt_day</th>\n",
       "      <th>Sales</th>\n",
       "    </tr>\n",
       "  </thead>\n",
       "  <tbody>\n",
       "    <tr>\n",
       "      <th>287630</th>\n",
       "      <td>Выездная Торговля</td>\n",
       "      <td>9</td>\n",
       "      <td>Аксессуары - PS3</td>\n",
       "      <td>2</td>\n",
       "      <td>PS Move Motion Controller (Контроллер движений...</td>\n",
       "      <td>5572</td>\n",
       "      <td>2013-05-10</td>\n",
       "      <td>9</td>\n",
       "      <td>1490.000000</td>\n",
       "      <td>2.0</td>\n",
       "      <td>2980.0</td>\n",
       "    </tr>\n",
       "    <tr>\n",
       "      <th>287631</th>\n",
       "      <td>Выездная Торговля</td>\n",
       "      <td>9</td>\n",
       "      <td>Аксессуары - PS3</td>\n",
       "      <td>2</td>\n",
       "      <td>PS Move Motion Controller Charger (Зарядная ст...</td>\n",
       "      <td>5573</td>\n",
       "      <td>2013-04-10</td>\n",
       "      <td>9</td>\n",
       "      <td>599.000000</td>\n",
       "      <td>1.0</td>\n",
       "      <td>599.0</td>\n",
       "    </tr>\n",
       "    <tr>\n",
       "      <th>287632</th>\n",
       "      <td>Выездная Торговля</td>\n",
       "      <td>9</td>\n",
       "      <td>Аксессуары - PS3</td>\n",
       "      <td>2</td>\n",
       "      <td>PS Move Motion Controller Charger (Зарядная ст...</td>\n",
       "      <td>5573</td>\n",
       "      <td>2013-05-10</td>\n",
       "      <td>9</td>\n",
       "      <td>599.000000</td>\n",
       "      <td>2.0</td>\n",
       "      <td>1198.0</td>\n",
       "    </tr>\n",
       "    <tr>\n",
       "      <th>287633</th>\n",
       "      <td>Выездная Торговля</td>\n",
       "      <td>9</td>\n",
       "      <td>Аксессуары - PS3</td>\n",
       "      <td>2</td>\n",
       "      <td>PS3: Гарнитура беспроводная для PS3 (Wireless ...</td>\n",
       "      <td>5612</td>\n",
       "      <td>2013-04-10</td>\n",
       "      <td>9</td>\n",
       "      <td>3690.000000</td>\n",
       "      <td>1.0</td>\n",
       "      <td>3690.0</td>\n",
       "    </tr>\n",
       "    <tr>\n",
       "      <th>287634</th>\n",
       "      <td>Выездная Торговля</td>\n",
       "      <td>9</td>\n",
       "      <td>Аксессуары - PS3</td>\n",
       "      <td>2</td>\n",
       "      <td>PS3: Гарнитура беспроводная для PS3 (Wireless ...</td>\n",
       "      <td>5612</td>\n",
       "      <td>2013-06-10</td>\n",
       "      <td>9</td>\n",
       "      <td>3690.000000</td>\n",
       "      <td>1.0</td>\n",
       "      <td>3690.0</td>\n",
       "    </tr>\n",
       "    <tr>\n",
       "      <th>...</th>\n",
       "      <td>...</td>\n",
       "      <td>...</td>\n",
       "      <td>...</td>\n",
       "      <td>...</td>\n",
       "      <td>...</td>\n",
       "      <td>...</td>\n",
       "      <td>...</td>\n",
       "      <td>...</td>\n",
       "      <td>...</td>\n",
       "      <td>...</td>\n",
       "      <td>...</td>\n",
       "    </tr>\n",
       "    <tr>\n",
       "      <th>291376</th>\n",
       "      <td>Выездная Торговля</td>\n",
       "      <td>9</td>\n",
       "      <td>Программы - Для дома и офиса</td>\n",
       "      <td>75</td>\n",
       "      <td>Kaspersky Internet Security для Android Russia...</td>\n",
       "      <td>4201</td>\n",
       "      <td>2015-02-10</td>\n",
       "      <td>33</td>\n",
       "      <td>399.000000</td>\n",
       "      <td>110.0</td>\n",
       "      <td>43890.0</td>\n",
       "    </tr>\n",
       "    <tr>\n",
       "      <th>291377</th>\n",
       "      <td>Выездная Торговля</td>\n",
       "      <td>9</td>\n",
       "      <td>Служебные</td>\n",
       "      <td>79</td>\n",
       "      <td>Прием денежных средств для 1С-Онлайн</td>\n",
       "      <td>17717</td>\n",
       "      <td>2014-02-10</td>\n",
       "      <td>21</td>\n",
       "      <td>1999.000000</td>\n",
       "      <td>2.0</td>\n",
       "      <td>3998.0</td>\n",
       "    </tr>\n",
       "    <tr>\n",
       "      <th>291378</th>\n",
       "      <td>Выездная Торговля</td>\n",
       "      <td>9</td>\n",
       "      <td>Служебные</td>\n",
       "      <td>79</td>\n",
       "      <td>Прием денежных средств для 1С-Онлайн</td>\n",
       "      <td>17717</td>\n",
       "      <td>2014-03-10</td>\n",
       "      <td>21</td>\n",
       "      <td>1219.000000</td>\n",
       "      <td>5.0</td>\n",
       "      <td>6095.0</td>\n",
       "    </tr>\n",
       "    <tr>\n",
       "      <th>291379</th>\n",
       "      <td>Выездная Торговля</td>\n",
       "      <td>9</td>\n",
       "      <td>Служебные</td>\n",
       "      <td>79</td>\n",
       "      <td>Прием денежных средств для 1С-Онлайн</td>\n",
       "      <td>17717</td>\n",
       "      <td>2014-05-10</td>\n",
       "      <td>21</td>\n",
       "      <td>774.250000</td>\n",
       "      <td>4.0</td>\n",
       "      <td>3097.0</td>\n",
       "    </tr>\n",
       "    <tr>\n",
       "      <th>291380</th>\n",
       "      <td>Выездная Торговля</td>\n",
       "      <td>9</td>\n",
       "      <td>Служебные</td>\n",
       "      <td>79</td>\n",
       "      <td>Прием денежных средств для 1С-Онлайн</td>\n",
       "      <td>17717</td>\n",
       "      <td>2014-04-10</td>\n",
       "      <td>21</td>\n",
       "      <td>566.333333</td>\n",
       "      <td>3.0</td>\n",
       "      <td>1699.0</td>\n",
       "    </tr>\n",
       "  </tbody>\n",
       "</table>\n",
       "<p>3751 rows × 11 columns</p>\n",
       "</div>"
      ],
      "text/plain": [
       "                shop_name  shop_id            item_category_name  \\\n",
       "287630  Выездная Торговля        9              Аксессуары - PS3   \n",
       "287631  Выездная Торговля        9              Аксессуары - PS3   \n",
       "287632  Выездная Торговля        9              Аксессуары - PS3   \n",
       "287633  Выездная Торговля        9              Аксессуары - PS3   \n",
       "287634  Выездная Торговля        9              Аксессуары - PS3   \n",
       "...                   ...      ...                           ...   \n",
       "291376  Выездная Торговля        9  Программы - Для дома и офиса   \n",
       "291377  Выездная Торговля        9                     Служебные   \n",
       "291378  Выездная Торговля        9                     Служебные   \n",
       "291379  Выездная Торговля        9                     Служебные   \n",
       "291380  Выездная Торговля        9                     Служебные   \n",
       "\n",
       "        item_category_id                                          item_name  \\\n",
       "287630                 2  PS Move Motion Controller (Контроллер движений...   \n",
       "287631                 2  PS Move Motion Controller Charger (Зарядная ст...   \n",
       "287632                 2  PS Move Motion Controller Charger (Зарядная ст...   \n",
       "287633                 2  PS3: Гарнитура беспроводная для PS3 (Wireless ...   \n",
       "287634                 2  PS3: Гарнитура беспроводная для PS3 (Wireless ...   \n",
       "...                  ...                                                ...   \n",
       "291376                75  Kaspersky Internet Security для Android Russia...   \n",
       "291377                79               Прием денежных средств для 1С-Онлайн   \n",
       "291378                79               Прием денежных средств для 1С-Онлайн   \n",
       "291379                79               Прием денежных средств для 1С-Онлайн   \n",
       "291380                79               Прием денежных средств для 1С-Онлайн   \n",
       "\n",
       "        item_id       date  date_block_num   item_price  item_cnt_day    Sales  \n",
       "287630     5572 2013-05-10               9  1490.000000           2.0   2980.0  \n",
       "287631     5573 2013-04-10               9   599.000000           1.0    599.0  \n",
       "287632     5573 2013-05-10               9   599.000000           2.0   1198.0  \n",
       "287633     5612 2013-04-10               9  3690.000000           1.0   3690.0  \n",
       "287634     5612 2013-06-10               9  3690.000000           1.0   3690.0  \n",
       "...         ...        ...             ...          ...           ...      ...  \n",
       "291376     4201 2015-02-10              33   399.000000         110.0  43890.0  \n",
       "291377    17717 2014-02-10              21  1999.000000           2.0   3998.0  \n",
       "291378    17717 2014-03-10              21  1219.000000           5.0   6095.0  \n",
       "291379    17717 2014-05-10              21   774.250000           4.0   3097.0  \n",
       "291380    17717 2014-04-10              21   566.333333           3.0   1699.0  \n",
       "\n",
       "[3751 rows x 11 columns]"
      ]
     },
     "execution_count": 213,
     "metadata": {},
     "output_type": "execute_result"
    }
   ],
   "source": [
    "highest_selling_shop= train_set.loc[train_set['shop_id'] == 9]\n",
    "highest_selling_shop"
   ]
  },
  {
   "cell_type": "markdown",
   "id": "b0b0a583",
   "metadata": {},
   "source": [
    "The highest selling shop is Выездная Торговля"
   ]
  },
  {
   "cell_type": "code",
   "execution_count": null,
   "id": "0213f7ae",
   "metadata": {},
   "outputs": [],
   "source": []
  },
  {
   "cell_type": "markdown",
   "id": "771195d6",
   "metadata": {},
   "source": [
    "#### The highest selling shop is Выездная Торговля"
   ]
  },
  {
   "cell_type": "code",
   "execution_count": 214,
   "id": "944d09d6",
   "metadata": {},
   "outputs": [
    {
     "data": {
      "image/png": "[encoded data removed]",
      "text/plain": [
       "<Figure size 720x720 with 1 Axes>"
      ]
     },
     "metadata": {},
     "output_type": "display_data"
    }
   ],
   "source": [
    "plt.figure(figsize=(10,10))\n",
    "sns.countplot(months)\n",
    "plt.title('Sales per Year', fontsize = 40)\n",
    "plt.xlabel('Year', fontsize = 25)\n",
    "plt.ylabel('Sales', fontsize = 25)\n",
    "plt.show()"
   ]
  },
  {
   "cell_type": "markdown",
   "id": "ae0a98a2",
   "metadata": {},
   "source": [
    "### To find the month from Jan 2013- Oct 2013 which had the highest sales"
   ]
  },
  {
   "cell_type": "code",
   "execution_count": 215,
   "id": "d9532b50",
   "metadata": {},
   "outputs": [
    {
     "data": {
      "text/plain": [
       "Text(0, 0.5, 'Sales')"
      ]
     },
     "execution_count": 215,
     "metadata": {},
     "output_type": "execute_result"
    },
    {
     "data": {
      "text/plain": [
       "<Figure size 2160x2160 with 0 Axes>"
      ]
     },
     "metadata": {},
     "output_type": "display_data"
    },
    {
     "data": {
      "image/png": "[encoded data removed]",
      "text/plain": [
       "<Figure size 576x396 with 1 Axes>"
      ]
     },
     "metadata": {},
     "output_type": "display_data"
    }
   ],
   "source": [
    "sales_by_month = train_set.groupby(['date_block_num'])[[\"Sales\"]].sum()\n",
    "plt.figure(figsize=(30,30))\n",
    "sales_by_month.plot()\n",
    "plt.title('Month with highest Sales in the dataset', fontsize = 10)\n",
    "plt.xlabel('Months', fontsize = 10)\n",
    "plt.ylabel('Sales', fontsize = 10)"
   ]
  },
  {
   "cell_type": "code",
   "execution_count": 216,
   "id": "c1f2fdfb",
   "metadata": {},
   "outputs": [
    {
     "data": {
      "text/plain": [
       "232615420.90999922"
      ]
     },
     "execution_count": 216,
     "metadata": {},
     "output_type": "execute_result"
    }
   ],
   "source": [
    "sales_max = train_set.groupby(['date_block_num'])['Sales'].sum()\n",
    "sales_max.max()"
   ]
  },
  {
   "cell_type": "code",
   "execution_count": 217,
   "id": "9b108144",
   "metadata": {
    "scrolled": true
   },
   "outputs": [
    {
     "name": "stdout",
     "output_type": "stream",
     "text": [
      "date_block_num\n",
      "0     False\n",
      "1     False\n",
      "2     False\n",
      "3     False\n",
      "4     False\n",
      "5     False\n",
      "6     False\n",
      "7     False\n",
      "8     False\n",
      "9     False\n",
      "10    False\n",
      "11    False\n",
      "12    False\n",
      "13    False\n",
      "14    False\n",
      "15    False\n",
      "16    False\n",
      "17    False\n",
      "18    False\n",
      "19    False\n",
      "20    False\n",
      "21    False\n",
      "22    False\n",
      "23    False\n",
      "24    False\n",
      "25    False\n",
      "26    False\n",
      "27    False\n",
      "28    False\n",
      "29    False\n",
      "30    False\n",
      "31    False\n",
      "32    False\n",
      "33    False\n",
      "Name: Sales, dtype: bool\n"
     ]
    }
   ],
   "source": [
    "print(sales_max==232615420.90999845)"
   ]
  },
  {
   "cell_type": "markdown",
   "id": "3186a3f6",
   "metadata": {},
   "source": [
    "The highest sale was in the 23 date block. Lets explore the date block 23."
   ]
  },
  {
   "cell_type": "code",
   "execution_count": 218,
   "id": "510dbe33",
   "metadata": {},
   "outputs": [
    {
     "data": {
      "text/html": [
       "<div>\n",
       "<style scoped>\n",
       "    .dataframe tbody tr th:only-of-type {\n",
       "        vertical-align: middle;\n",
       "    }\n",
       "\n",
       "    .dataframe tbody tr th {\n",
       "        vertical-align: top;\n",
       "    }\n",
       "\n",
       "    .dataframe thead th {\n",
       "        text-align: right;\n",
       "    }\n",
       "</style>\n",
       "<table border=\"1\" class=\"dataframe\">\n",
       "  <thead>\n",
       "    <tr style=\"text-align: right;\">\n",
       "      <th></th>\n",
       "      <th>shop_name</th>\n",
       "      <th>shop_id</th>\n",
       "      <th>item_category_name</th>\n",
       "      <th>item_category_id</th>\n",
       "      <th>item_name</th>\n",
       "      <th>item_id</th>\n",
       "      <th>date</th>\n",
       "      <th>date_block_num</th>\n",
       "      <th>item_price</th>\n",
       "      <th>item_cnt_day</th>\n",
       "      <th>Sales</th>\n",
       "    </tr>\n",
       "  </thead>\n",
       "  <tbody>\n",
       "    <tr>\n",
       "      <th>15563</th>\n",
       "      <td>Адыгея ТЦ \"Мега\"</td>\n",
       "      <td>2</td>\n",
       "      <td>Аксессуары - PS3</td>\n",
       "      <td>2</td>\n",
       "      <td>PS Move Motion Controller (Контроллер движений...</td>\n",
       "      <td>5572</td>\n",
       "      <td>2014-12-18</td>\n",
       "      <td>23</td>\n",
       "      <td>1490.0</td>\n",
       "      <td>1.0</td>\n",
       "      <td>1490.0</td>\n",
       "    </tr>\n",
       "    <tr>\n",
       "      <th>15627</th>\n",
       "      <td>Адыгея ТЦ \"Мега\"</td>\n",
       "      <td>2</td>\n",
       "      <td>Аксессуары - PS3</td>\n",
       "      <td>2</td>\n",
       "      <td>PS3: Turtle Beaсh. EarForce P11. Геймерская ст...</td>\n",
       "      <td>5610</td>\n",
       "      <td>2014-12-31</td>\n",
       "      <td>23</td>\n",
       "      <td>1890.0</td>\n",
       "      <td>1.0</td>\n",
       "      <td>1890.0</td>\n",
       "    </tr>\n",
       "    <tr>\n",
       "      <th>15652</th>\n",
       "      <td>Адыгея ТЦ \"Мега\"</td>\n",
       "      <td>2</td>\n",
       "      <td>Аксессуары - PS3</td>\n",
       "      <td>2</td>\n",
       "      <td>PS3: Геймпад Gioteck VX-1 беспроводной (VX1PS3...</td>\n",
       "      <td>5616</td>\n",
       "      <td>2014-12-29</td>\n",
       "      <td>23</td>\n",
       "      <td>1190.0</td>\n",
       "      <td>1.0</td>\n",
       "      <td>1190.0</td>\n",
       "    </tr>\n",
       "    <tr>\n",
       "      <th>15699</th>\n",
       "      <td>Адыгея ТЦ \"Мега\"</td>\n",
       "      <td>2</td>\n",
       "      <td>Аксессуары - PS3</td>\n",
       "      <td>2</td>\n",
       "      <td>PS3: Контроллер игровой беспроводной красный (...</td>\n",
       "      <td>5631</td>\n",
       "      <td>2014-12-31</td>\n",
       "      <td>23</td>\n",
       "      <td>3290.0</td>\n",
       "      <td>1.0</td>\n",
       "      <td>3290.0</td>\n",
       "    </tr>\n",
       "    <tr>\n",
       "      <th>15712</th>\n",
       "      <td>Адыгея ТЦ \"Мега\"</td>\n",
       "      <td>2</td>\n",
       "      <td>Аксессуары - PS3</td>\n",
       "      <td>2</td>\n",
       "      <td>PS3: Контроллер игровой беспроводной прозрачны...</td>\n",
       "      <td>5634</td>\n",
       "      <td>2014-12-16</td>\n",
       "      <td>23</td>\n",
       "      <td>2590.0</td>\n",
       "      <td>1.0</td>\n",
       "      <td>2590.0</td>\n",
       "    </tr>\n",
       "    <tr>\n",
       "      <th>...</th>\n",
       "      <td>...</td>\n",
       "      <td>...</td>\n",
       "      <td>...</td>\n",
       "      <td>...</td>\n",
       "      <td>...</td>\n",
       "      <td>...</td>\n",
       "      <td>...</td>\n",
       "      <td>...</td>\n",
       "      <td>...</td>\n",
       "      <td>...</td>\n",
       "      <td>...</td>\n",
       "    </tr>\n",
       "    <tr>\n",
       "      <th>2935789</th>\n",
       "      <td>Ярославль ТЦ \"Альтаир\"</td>\n",
       "      <td>59</td>\n",
       "      <td>Элементы питания</td>\n",
       "      <td>83</td>\n",
       "      <td>Элемент питания DURACELL TURBO LR 03 2*BL</td>\n",
       "      <td>22091</td>\n",
       "      <td>2014-12-14</td>\n",
       "      <td>23</td>\n",
       "      <td>139.0</td>\n",
       "      <td>1.0</td>\n",
       "      <td>139.0</td>\n",
       "    </tr>\n",
       "    <tr>\n",
       "      <th>2935790</th>\n",
       "      <td>Ярославль ТЦ \"Альтаир\"</td>\n",
       "      <td>59</td>\n",
       "      <td>Элементы питания</td>\n",
       "      <td>83</td>\n",
       "      <td>Элемент питания DURACELL TURBO LR 03 2*BL</td>\n",
       "      <td>22091</td>\n",
       "      <td>2014-07-12</td>\n",
       "      <td>23</td>\n",
       "      <td>139.0</td>\n",
       "      <td>1.0</td>\n",
       "      <td>139.0</td>\n",
       "    </tr>\n",
       "    <tr>\n",
       "      <th>2935840</th>\n",
       "      <td>Ярославль ТЦ \"Альтаир\"</td>\n",
       "      <td>59</td>\n",
       "      <td>Элементы питания</td>\n",
       "      <td>83</td>\n",
       "      <td>Элемент питания DURACELL TURBO LR6 2*BL</td>\n",
       "      <td>22092</td>\n",
       "      <td>2014-12-21</td>\n",
       "      <td>23</td>\n",
       "      <td>139.0</td>\n",
       "      <td>1.0</td>\n",
       "      <td>139.0</td>\n",
       "    </tr>\n",
       "    <tr>\n",
       "      <th>2935841</th>\n",
       "      <td>Ярославль ТЦ \"Альтаир\"</td>\n",
       "      <td>59</td>\n",
       "      <td>Элементы питания</td>\n",
       "      <td>83</td>\n",
       "      <td>Элемент питания DURACELL TURBO LR6 2*BL</td>\n",
       "      <td>22092</td>\n",
       "      <td>2014-12-15</td>\n",
       "      <td>23</td>\n",
       "      <td>139.0</td>\n",
       "      <td>1.0</td>\n",
       "      <td>139.0</td>\n",
       "    </tr>\n",
       "    <tr>\n",
       "      <th>2935842</th>\n",
       "      <td>Ярославль ТЦ \"Альтаир\"</td>\n",
       "      <td>59</td>\n",
       "      <td>Элементы питания</td>\n",
       "      <td>83</td>\n",
       "      <td>Элемент питания DURACELL TURBO LR6 2*BL</td>\n",
       "      <td>22092</td>\n",
       "      <td>2014-12-13</td>\n",
       "      <td>23</td>\n",
       "      <td>139.0</td>\n",
       "      <td>1.0</td>\n",
       "      <td>139.0</td>\n",
       "    </tr>\n",
       "  </tbody>\n",
       "</table>\n",
       "<p>130786 rows × 11 columns</p>\n",
       "</div>"
      ],
      "text/plain": [
       "                      shop_name  shop_id item_category_name  item_category_id  \\\n",
       "15563          Адыгея ТЦ \"Мега\"        2   Аксессуары - PS3                 2   \n",
       "15627          Адыгея ТЦ \"Мега\"        2   Аксессуары - PS3                 2   \n",
       "15652          Адыгея ТЦ \"Мега\"        2   Аксессуары - PS3                 2   \n",
       "15699          Адыгея ТЦ \"Мега\"        2   Аксессуары - PS3                 2   \n",
       "15712          Адыгея ТЦ \"Мега\"        2   Аксессуары - PS3                 2   \n",
       "...                         ...      ...                ...               ...   \n",
       "2935789  Ярославль ТЦ \"Альтаир\"       59   Элементы питания                83   \n",
       "2935790  Ярославль ТЦ \"Альтаир\"       59   Элементы питания                83   \n",
       "2935840  Ярославль ТЦ \"Альтаир\"       59   Элементы питания                83   \n",
       "2935841  Ярославль ТЦ \"Альтаир\"       59   Элементы питания                83   \n",
       "2935842  Ярославль ТЦ \"Альтаир\"       59   Элементы питания                83   \n",
       "\n",
       "                                                 item_name  item_id  \\\n",
       "15563    PS Move Motion Controller (Контроллер движений...     5572   \n",
       "15627    PS3: Turtle Beaсh. EarForce P11. Геймерская ст...     5610   \n",
       "15652    PS3: Геймпад Gioteck VX-1 беспроводной (VX1PS3...     5616   \n",
       "15699    PS3: Контроллер игровой беспроводной красный (...     5631   \n",
       "15712    PS3: Контроллер игровой беспроводной прозрачны...     5634   \n",
       "...                                                    ...      ...   \n",
       "2935789          Элемент питания DURACELL TURBO LR 03 2*BL    22091   \n",
       "2935790          Элемент питания DURACELL TURBO LR 03 2*BL    22091   \n",
       "2935840            Элемент питания DURACELL TURBO LR6 2*BL    22092   \n",
       "2935841            Элемент питания DURACELL TURBO LR6 2*BL    22092   \n",
       "2935842            Элемент питания DURACELL TURBO LR6 2*BL    22092   \n",
       "\n",
       "              date  date_block_num  item_price  item_cnt_day   Sales  \n",
       "15563   2014-12-18              23      1490.0           1.0  1490.0  \n",
       "15627   2014-12-31              23      1890.0           1.0  1890.0  \n",
       "15652   2014-12-29              23      1190.0           1.0  1190.0  \n",
       "15699   2014-12-31              23      3290.0           1.0  3290.0  \n",
       "15712   2014-12-16              23      2590.0           1.0  2590.0  \n",
       "...            ...             ...         ...           ...     ...  \n",
       "2935789 2014-12-14              23       139.0           1.0   139.0  \n",
       "2935790 2014-07-12              23       139.0           1.0   139.0  \n",
       "2935840 2014-12-21              23       139.0           1.0   139.0  \n",
       "2935841 2014-12-15              23       139.0           1.0   139.0  \n",
       "2935842 2014-12-13              23       139.0           1.0   139.0  \n",
       "\n",
       "[130786 rows x 11 columns]"
      ]
     },
     "execution_count": 218,
     "metadata": {},
     "output_type": "execute_result"
    }
   ],
   "source": [
    "highest_sales_month = train_set[train_set[\"date_block_num\"]==23]\n",
    "highest_sales_month\n"
   ]
  },
  {
   "cell_type": "markdown",
   "id": "9fbe7e02",
   "metadata": {},
   "source": [
    "This shows that the highest sales were in the month of December 2014"
   ]
  },
  {
   "cell_type": "markdown",
   "id": "b6fc4ffc",
   "metadata": {},
   "source": [
    "#### To find the store which recorded highest sales in amonth from Jan 2013-Oct2015"
   ]
  },
  {
   "cell_type": "code",
   "execution_count": 219,
   "id": "fa348e0b",
   "metadata": {},
   "outputs": [
    {
     "data": {
      "text/plain": [
       "15730394.000000525"
      ]
     },
     "execution_count": 219,
     "metadata": {},
     "output_type": "execute_result"
    }
   ],
   "source": [
    "highest_store_sales = train_set.groupby(['date_block_num', 'shop_name'])['Sales'].sum()\n",
    "\n",
    "highest_store_sales.max()"
   ]
  },
  {
   "cell_type": "code",
   "execution_count": 220,
   "id": "1163b21f",
   "metadata": {},
   "outputs": [
    {
     "data": {
      "text/html": [
       "<div>\n",
       "<style scoped>\n",
       "    .dataframe tbody tr th:only-of-type {\n",
       "        vertical-align: middle;\n",
       "    }\n",
       "\n",
       "    .dataframe tbody tr th {\n",
       "        vertical-align: top;\n",
       "    }\n",
       "\n",
       "    .dataframe thead th {\n",
       "        text-align: right;\n",
       "    }\n",
       "</style>\n",
       "<table border=\"1\" class=\"dataframe\">\n",
       "  <thead>\n",
       "    <tr style=\"text-align: right;\">\n",
       "      <th></th>\n",
       "      <th></th>\n",
       "      <th>Sales</th>\n",
       "    </tr>\n",
       "    <tr>\n",
       "      <th>date_block_num</th>\n",
       "      <th>shop_name</th>\n",
       "      <th></th>\n",
       "    </tr>\n",
       "  </thead>\n",
       "  <tbody>\n",
       "  </tbody>\n",
       "</table>\n",
       "</div>"
      ],
      "text/plain": [
       "Empty DataFrame\n",
       "Columns: [Sales]\n",
       "Index: []"
      ]
     },
     "execution_count": 220,
     "metadata": {},
     "output_type": "execute_result"
    }
   ],
   "source": [
    "highest_store_sales=pd.DataFrame(highest_store_sales)\n",
    "highest_store_sales=highest_store_sales.loc[highest_store_sales['Sales'] == 15730394.000000501]\n",
    "highest_store_sales"
   ]
  },
  {
   "cell_type": "markdown",
   "id": "45af17a9",
   "metadata": {},
   "source": [
    "the store with the highest sales in a month from Jan 2013-Oct 2015 is Москва ТРК \"Атриум\""
   ]
  },
  {
   "cell_type": "markdown",
   "id": "cc132d04",
   "metadata": {},
   "source": [
    "### To find the item category which recorded highest sale in month from Jan 2013-Oct 2015"
   ]
  },
  {
   "cell_type": "code",
   "execution_count": 221,
   "id": "e3434ba6",
   "metadata": {},
   "outputs": [
    {
     "data": {
      "text/plain": [
       "46487721.9999976"
      ]
     },
     "execution_count": 221,
     "metadata": {},
     "output_type": "execute_result"
    }
   ],
   "source": [
    "highest_item_sales = train_set.groupby(['date_block_num', 'item_category_name'])['Sales'].sum()\n",
    "\n",
    "highest_item_sales.max()"
   ]
  },
  {
   "cell_type": "code",
   "execution_count": 222,
   "id": "23a87d20",
   "metadata": {},
   "outputs": [
    {
     "data": {
      "text/html": [
       "<div>\n",
       "<style scoped>\n",
       "    .dataframe tbody tr th:only-of-type {\n",
       "        vertical-align: middle;\n",
       "    }\n",
       "\n",
       "    .dataframe tbody tr th {\n",
       "        vertical-align: top;\n",
       "    }\n",
       "\n",
       "    .dataframe thead th {\n",
       "        text-align: right;\n",
       "    }\n",
       "</style>\n",
       "<table border=\"1\" class=\"dataframe\">\n",
       "  <thead>\n",
       "    <tr style=\"text-align: right;\">\n",
       "      <th></th>\n",
       "      <th></th>\n",
       "      <th>Sales</th>\n",
       "    </tr>\n",
       "    <tr>\n",
       "      <th>date_block_num</th>\n",
       "      <th>item_category_name</th>\n",
       "      <th></th>\n",
       "    </tr>\n",
       "  </thead>\n",
       "  <tbody>\n",
       "    <tr>\n",
       "      <th>11</th>\n",
       "      <th>Игровые консоли - PS4</th>\n",
       "      <td>4.648772e+07</td>\n",
       "    </tr>\n",
       "  </tbody>\n",
       "</table>\n",
       "</div>"
      ],
      "text/plain": [
       "                                             Sales\n",
       "date_block_num item_category_name                 \n",
       "11             Игровые консоли - PS4  4.648772e+07"
      ]
     },
     "execution_count": 222,
     "metadata": {},
     "output_type": "execute_result"
    }
   ],
   "source": [
    "highest_item_sales=pd.DataFrame(highest_item_sales)\n",
    "highest_item_sales=highest_item_sales.loc[highest_item_sales['Sales'] == 46487721.9999976]\n",
    "highest_item_sales"
   ]
  },
  {
   "cell_type": "markdown",
   "id": "80c65e93",
   "metadata": {},
   "source": [
    "The item selling highest in a given month is Игровые консоли - PS4"
   ]
  },
  {
   "cell_type": "code",
   "execution_count": null,
   "id": "214f2946",
   "metadata": {},
   "outputs": [],
   "source": []
  },
  {
   "cell_type": "markdown",
   "id": "70119ab9",
   "metadata": {},
   "source": [
    "## To aggregate train data set to show monthly data to bring it in line with test data"
   ]
  },
  {
   "cell_type": "code",
   "execution_count": 223,
   "id": "7cc50331",
   "metadata": {},
   "outputs": [],
   "source": [
    "train_set = train_set[[\"date_block_num\", \"shop_id\", \"item_id\", \"item_price\", \"item_cnt_day\", \"shop_name\", \"Sales\", \"item_name\"]].groupby(\n",
    "    [\"date_block_num\", \"shop_id\", \"item_id\"]).agg(\n",
    "    {\"item_cnt_day\": \"sum\", \"Sales\" : \"sum\"}).reset_index()\n",
    "train_set.rename(columns={\"item_cnt_day\": \"item_cnt_month\"}, inplace=True)"
   ]
  },
  {
   "cell_type": "markdown",
   "id": "ef40fdf0",
   "metadata": {},
   "source": [
    "#### To merge the test data with other datasets."
   ]
  },
  {
   "cell_type": "code",
   "execution_count": 224,
   "id": "973e2b4e",
   "metadata": {},
   "outputs": [
    {
     "data": {
      "text/html": [
       "<div>\n",
       "<style scoped>\n",
       "    .dataframe tbody tr th:only-of-type {\n",
       "        vertical-align: middle;\n",
       "    }\n",
       "\n",
       "    .dataframe tbody tr th {\n",
       "        vertical-align: top;\n",
       "    }\n",
       "\n",
       "    .dataframe thead th {\n",
       "        text-align: right;\n",
       "    }\n",
       "</style>\n",
       "<table border=\"1\" class=\"dataframe\">\n",
       "  <thead>\n",
       "    <tr style=\"text-align: right;\">\n",
       "      <th></th>\n",
       "      <th>shop_name</th>\n",
       "      <th>shop_id</th>\n",
       "      <th>item_category_name</th>\n",
       "      <th>item_category_id</th>\n",
       "      <th>item_name</th>\n",
       "      <th>item_id</th>\n",
       "      <th>ID</th>\n",
       "    </tr>\n",
       "  </thead>\n",
       "  <tbody>\n",
       "    <tr>\n",
       "      <th>0</th>\n",
       "      <td>Адыгея ТЦ \"Мега\"</td>\n",
       "      <td>2</td>\n",
       "      <td>PC - Гарнитуры/Наушники</td>\n",
       "      <td>0</td>\n",
       "      <td>PC: Гарнитура HyperX Cloud Core игровая стерео...</td>\n",
       "      <td>5441</td>\n",
       "      <td>23914</td>\n",
       "    </tr>\n",
       "    <tr>\n",
       "      <th>1</th>\n",
       "      <td>Адыгея ТЦ \"Мега\"</td>\n",
       "      <td>2</td>\n",
       "      <td>Аксессуары - PS3</td>\n",
       "      <td>2</td>\n",
       "      <td>PS Move Motion Controller (Контроллер движений...</td>\n",
       "      <td>5572</td>\n",
       "      <td>24116</td>\n",
       "    </tr>\n",
       "    <tr>\n",
       "      <th>2</th>\n",
       "      <td>Адыгея ТЦ \"Мега\"</td>\n",
       "      <td>2</td>\n",
       "      <td>Аксессуары - PS3</td>\n",
       "      <td>2</td>\n",
       "      <td>PS3: Кабель HDMI Artplays 2 м (ver. 1.4) блистер</td>\n",
       "      <td>5621</td>\n",
       "      <td>25398</td>\n",
       "    </tr>\n",
       "    <tr>\n",
       "      <th>3</th>\n",
       "      <td>Адыгея ТЦ \"Мега\"</td>\n",
       "      <td>2</td>\n",
       "      <td>Аксессуары - PS3</td>\n",
       "      <td>2</td>\n",
       "      <td>PS3: Контроллер игровой беспроводной прозрачны...</td>\n",
       "      <td>5634</td>\n",
       "      <td>21533</td>\n",
       "    </tr>\n",
       "    <tr>\n",
       "      <th>4</th>\n",
       "      <td>Адыгея ТЦ \"Мега\"</td>\n",
       "      <td>2</td>\n",
       "      <td>Аксессуары - PS3</td>\n",
       "      <td>2</td>\n",
       "      <td>PS3: Контроллер игровой беспроводной серый мет...</td>\n",
       "      <td>5637</td>\n",
       "      <td>25197</td>\n",
       "    </tr>\n",
       "    <tr>\n",
       "      <th>...</th>\n",
       "      <td>...</td>\n",
       "      <td>...</td>\n",
       "      <td>...</td>\n",
       "      <td>...</td>\n",
       "      <td>...</td>\n",
       "      <td>...</td>\n",
       "      <td>...</td>\n",
       "    </tr>\n",
       "    <tr>\n",
       "      <th>214195</th>\n",
       "      <td>Ярославль ТЦ \"Альтаир\"</td>\n",
       "      <td>59</td>\n",
       "      <td>Служебные</td>\n",
       "      <td>79</td>\n",
       "      <td>Прием денежных средств для 1С-Онлайн</td>\n",
       "      <td>17717</td>\n",
       "      <td>148174</td>\n",
       "    </tr>\n",
       "    <tr>\n",
       "      <th>214196</th>\n",
       "      <td>Ярославль ТЦ \"Альтаир\"</td>\n",
       "      <td>59</td>\n",
       "      <td>Элементы питания</td>\n",
       "      <td>83</td>\n",
       "      <td>Элемент питания DURACELL LR03-BC2</td>\n",
       "      <td>22087</td>\n",
       "      <td>148487</td>\n",
       "    </tr>\n",
       "    <tr>\n",
       "      <th>214197</th>\n",
       "      <td>Ярославль ТЦ \"Альтаир\"</td>\n",
       "      <td>59</td>\n",
       "      <td>Элементы питания</td>\n",
       "      <td>83</td>\n",
       "      <td>Элемент питания DURACELL LR06-BC2</td>\n",
       "      <td>22088</td>\n",
       "      <td>148488</td>\n",
       "    </tr>\n",
       "    <tr>\n",
       "      <th>214198</th>\n",
       "      <td>Ярославль ТЦ \"Альтаир\"</td>\n",
       "      <td>59</td>\n",
       "      <td>Элементы питания</td>\n",
       "      <td>83</td>\n",
       "      <td>Элемент питания DURACELL TURBO LR 03 2*BL</td>\n",
       "      <td>22091</td>\n",
       "      <td>148489</td>\n",
       "    </tr>\n",
       "    <tr>\n",
       "      <th>214199</th>\n",
       "      <td>Ярославль ТЦ \"Альтаир\"</td>\n",
       "      <td>59</td>\n",
       "      <td>Элементы питания</td>\n",
       "      <td>83</td>\n",
       "      <td>Элемент питания DURACELL TURBO LR6 2*BL</td>\n",
       "      <td>22092</td>\n",
       "      <td>149233</td>\n",
       "    </tr>\n",
       "  </tbody>\n",
       "</table>\n",
       "<p>214200 rows × 7 columns</p>\n",
       "</div>"
      ],
      "text/plain": [
       "                     shop_name  shop_id       item_category_name  \\\n",
       "0             Адыгея ТЦ \"Мега\"        2  PC - Гарнитуры/Наушники   \n",
       "1             Адыгея ТЦ \"Мега\"        2         Аксессуары - PS3   \n",
       "2             Адыгея ТЦ \"Мега\"        2         Аксессуары - PS3   \n",
       "3             Адыгея ТЦ \"Мега\"        2         Аксессуары - PS3   \n",
       "4             Адыгея ТЦ \"Мега\"        2         Аксессуары - PS3   \n",
       "...                        ...      ...                      ...   \n",
       "214195  Ярославль ТЦ \"Альтаир\"       59                Служебные   \n",
       "214196  Ярославль ТЦ \"Альтаир\"       59         Элементы питания   \n",
       "214197  Ярославль ТЦ \"Альтаир\"       59         Элементы питания   \n",
       "214198  Ярославль ТЦ \"Альтаир\"       59         Элементы питания   \n",
       "214199  Ярославль ТЦ \"Альтаир\"       59         Элементы питания   \n",
       "\n",
       "        item_category_id                                          item_name  \\\n",
       "0                      0  PC: Гарнитура HyperX Cloud Core игровая стерео...   \n",
       "1                      2  PS Move Motion Controller (Контроллер движений...   \n",
       "2                      2   PS3: Кабель HDMI Artplays 2 м (ver. 1.4) блистер   \n",
       "3                      2  PS3: Контроллер игровой беспроводной прозрачны...   \n",
       "4                      2  PS3: Контроллер игровой беспроводной серый мет...   \n",
       "...                  ...                                                ...   \n",
       "214195                79               Прием денежных средств для 1С-Онлайн   \n",
       "214196                83                  Элемент питания DURACELL LR03-BC2   \n",
       "214197                83                  Элемент питания DURACELL LR06-BC2   \n",
       "214198                83          Элемент питания DURACELL TURBO LR 03 2*BL   \n",
       "214199                83            Элемент питания DURACELL TURBO LR6 2*BL   \n",
       "\n",
       "        item_id      ID  \n",
       "0          5441   23914  \n",
       "1          5572   24116  \n",
       "2          5621   25398  \n",
       "3          5634   21533  \n",
       "4          5637   25197  \n",
       "...         ...     ...  \n",
       "214195    17717  148174  \n",
       "214196    22087  148487  \n",
       "214197    22088  148488  \n",
       "214198    22091  148489  \n",
       "214199    22092  149233  \n",
       "\n",
       "[214200 rows x 7 columns]"
      ]
     },
     "execution_count": 224,
     "metadata": {},
     "output_type": "execute_result"
    }
   ],
   "source": [
    "test1=pd.merge(items, sales_test)\n",
    "test2=pd.merge(items_cat, test1)\n",
    "test = pd.merge(shops,test2)\n",
    "test"
   ]
  },
  {
   "cell_type": "markdown",
   "id": "de97d239",
   "metadata": {},
   "source": [
    "### To drop the insignificant column ID because the same information is captured in shopi_id and item_id"
   ]
  },
  {
   "cell_type": "code",
   "execution_count": 225,
   "id": "53600373",
   "metadata": {},
   "outputs": [],
   "source": [
    "test=test.drop(\"ID\",1)"
   ]
  },
  {
   "cell_type": "markdown",
   "id": "28b95875",
   "metadata": {},
   "source": [
    "### To explore the basic structure of test data set."
   ]
  },
  {
   "cell_type": "code",
   "execution_count": 226,
   "id": "2c01c543",
   "metadata": {},
   "outputs": [
    {
     "data": {
      "text/plain": [
       "(214200, 6)"
      ]
     },
     "execution_count": 226,
     "metadata": {},
     "output_type": "execute_result"
    }
   ],
   "source": [
    "test.shape"
   ]
  },
  {
   "cell_type": "markdown",
   "id": "90e52359",
   "metadata": {},
   "source": [
    "### To align train data set with test. It is mentioned that we need to predict the sales of products and shops present in the test data set, therefore we need to check the dimenions of shop_id and item_id between train and test data set."
   ]
  },
  {
   "cell_type": "code",
   "execution_count": 227,
   "id": "d8c8b9f3",
   "metadata": {},
   "outputs": [
    {
     "name": "stdout",
     "output_type": "stream",
     "text": [
      "Total unique item_ids in train_set dataset:  21806\n",
      "Total unique item_ids in test dataset:  5100\n",
      "Total unique shop_ids train_set dataset:  60\n",
      "Total unique shop_ids in test dataset:  42\n"
     ]
    }
   ],
   "source": [
    "train_set_u = train_set['item_id'].nunique()\n",
    "test_u = test['item_id'].nunique()\n",
    "train_set_s = train_set['shop_id'].nunique()\n",
    "test_s = test['shop_id'].nunique()\n",
    "print(\"Total unique item_ids in train_set dataset: \", train_set_u)\n",
    "print(\"Total unique item_ids in test dataset: \", test_u )\n",
    "\n",
    "print(\"Total unique shop_ids train_set dataset: \", train_set_s)\n",
    "print(\"Total unique shop_ids in test dataset: \", test_s)"
   ]
  },
  {
   "cell_type": "markdown",
   "id": "5e1ac998",
   "metadata": {},
   "source": [
    "### To remove additional products and shops from the train data set."
   ]
  },
  {
   "cell_type": "code",
   "execution_count": 228,
   "id": "0ea2a6a6",
   "metadata": {},
   "outputs": [],
   "source": [
    "train_set = train_set[train_set['shop_id'].isin(test['shop_id'].unique())]\n",
    "train_set = train_set[train_set['item_id'].isin(test['item_id'].unique())]"
   ]
  },
  {
   "cell_type": "markdown",
   "id": "96b7e401",
   "metadata": {},
   "source": [
    "### To verify again¶"
   ]
  },
  {
   "cell_type": "code",
   "execution_count": 229,
   "id": "2e1332b2",
   "metadata": {},
   "outputs": [
    {
     "name": "stdout",
     "output_type": "stream",
     "text": [
      "Total unique item_ids in train_set dataset:  4716\n",
      "Total unique item_ids in test dataset:  5100\n",
      "Total unique shop_ids train_set dataset:  42\n",
      "Total unique shop_ids in test dataset:  42\n"
     ]
    }
   ],
   "source": [
    "train_set_u = train_set['item_id'].nunique()\n",
    "test_u = test['item_id'].nunique()\n",
    "train_set_s = train_set['shop_id'].nunique()\n",
    "test_s = test['shop_id'].nunique()\n",
    "print(\"Total unique item_ids in train_set dataset: \", train_set_u)\n",
    "print(\"Total unique item_ids in test dataset: \", test_u )\n",
    "\n",
    "print(\"Total unique shop_ids train_set dataset: \", train_set_s)\n",
    "print(\"Total unique shop_ids in test dataset: \", test_s)"
   ]
  },
  {
   "cell_type": "markdown",
   "id": "cc8cbd51",
   "metadata": {},
   "source": [
    "##### Notice now we have some item_ids not present in the train data set which would make it difficult to predict the sales because we don't have the information for these item_ids in train data set."
   ]
  },
  {
   "cell_type": "markdown",
   "id": "517e5fad",
   "metadata": {},
   "source": [
    "### Create a reduced version of test and train to compare with full data set features"
   ]
  },
  {
   "cell_type": "code",
   "execution_count": 230,
   "id": "a914092e",
   "metadata": {},
   "outputs": [
    {
     "data": {
      "text/plain": [
       "(214200, 6)"
      ]
     },
     "execution_count": 230,
     "metadata": {},
     "output_type": "execute_result"
    }
   ],
   "source": [
    "test.shape"
   ]
  },
  {
   "cell_type": "code",
   "execution_count": 231,
   "id": "11b0bf1b",
   "metadata": {},
   "outputs": [],
   "source": [
    "test[\"item_cnt_month\"]=\" \""
   ]
  },
  {
   "cell_type": "code",
   "execution_count": 232,
   "id": "6e9bbf4c",
   "metadata": {},
   "outputs": [
    {
     "name": "stdout",
     "output_type": "stream",
     "text": [
      "<class 'pandas.core.frame.DataFrame'>\n",
      "Int64Index: 214200 entries, 0 to 214199\n",
      "Data columns (total 7 columns):\n",
      " #   Column              Non-Null Count   Dtype \n",
      "---  ------              --------------   ----- \n",
      " 0   shop_name           214200 non-null  object\n",
      " 1   shop_id             214200 non-null  int64 \n",
      " 2   item_category_name  214200 non-null  object\n",
      " 3   item_category_id    214200 non-null  int64 \n",
      " 4   item_name           214200 non-null  object\n",
      " 5   item_id             214200 non-null  int64 \n",
      " 6   item_cnt_month      214200 non-null  object\n",
      "dtypes: int64(3), object(4)\n",
      "memory usage: 13.1+ MB\n",
      "<class 'pandas.core.frame.DataFrame'>\n",
      "Int64Index: 600158 entries, 3921 to 1609121\n",
      "Data columns (total 5 columns):\n",
      " #   Column          Non-Null Count   Dtype  \n",
      "---  ------          --------------   -----  \n",
      " 0   date_block_num  600158 non-null  int64  \n",
      " 1   shop_id         600158 non-null  int64  \n",
      " 2   item_id         600158 non-null  int64  \n",
      " 3   item_cnt_month  600158 non-null  float64\n",
      " 4   Sales           600158 non-null  float64\n",
      "dtypes: float64(2), int64(3)\n",
      "memory usage: 27.5 MB\n"
     ]
    }
   ],
   "source": [
    "test.info()\n",
    "train_set.info()"
   ]
  },
  {
   "cell_type": "code",
   "execution_count": 233,
   "id": "bf535663",
   "metadata": {},
   "outputs": [],
   "source": [
    "# To drop some insignificant columns\n",
    "train_set=train_set.drop(\"Sales\", 1)\n",
    "train_set=train_set.drop(\"date_block_num\", 1)\n",
    "test= test.drop(\"item_category_id\", 1)\n",
    "test= test.drop(\"item_category_name\", 1)\n",
    "test= test.drop(\"item_name\", 1)\n",
    "test= test.drop(\"shop_name\", 1)"
   ]
  },
  {
   "cell_type": "code",
   "execution_count": 239,
   "id": "9dfc2689",
   "metadata": {},
   "outputs": [
    {
     "data": {
      "text/plain": [
       "(214200, 3)"
      ]
     },
     "execution_count": 239,
     "metadata": {},
     "output_type": "execute_result"
    }
   ],
   "source": [
    "test.shape"
   ]
  },
  {
   "cell_type": "markdown",
   "id": "73b6e02e",
   "metadata": {},
   "source": [
    "### Training models"
   ]
  },
  {
   "cell_type": "code",
   "execution_count": 234,
   "id": "37c66da0",
   "metadata": {},
   "outputs": [],
   "source": [
    "import sklearn\n",
    "from sklearn.linear_model import LinearRegression, Ridge, Lasso\n",
    "from sklearn.neighbors import KNeighborsRegressor\n",
    "from sklearn.ensemble import RandomForestRegressor, AdaBoostRegressor, BaggingRegressor, GradientBoostingRegressor\n",
    "from sklearn.tree import DecisionTreeRegressor\n",
    "import xgboost\n",
    "from xgboost import XGBRFRegressor"
   ]
  },
  {
   "cell_type": "code",
   "execution_count": 235,
   "id": "e41c0c45",
   "metadata": {},
   "outputs": [],
   "source": [
    "from sklearn.model_selection import cross_val_score, KFold, StratifiedKFold, train_test_split, RepeatedStratifiedKFold\n",
    "from sklearn.feature_selection import SelectKBest\n",
    "from sklearn.linear_model import LogisticRegression\n",
    "from sklearn.svm import SVC\n",
    "from sklearn.discriminant_analysis import LinearDiscriminantAnalysis \n",
    "from sklearn.neighbors import KNeighborsClassifier\n",
    "from sklearn.tree import DecisionTreeClassifier\n",
    "from sklearn.ensemble import RandomForestClassifier, GradientBoostingClassifier, AdaBoostClassifier, ExtraTreesClassifier\n",
    "from sklearn.naive_bayes import GaussianNB\n",
    "import xgboost\n",
    "from xgboost import XGBClassifier\n",
    "import yellowbrick\n",
    "from imblearn.pipeline import Pipeline\n",
    "from imblearn.over_sampling import SMOTE\n",
    "from sklearn.utils import resample\n",
    "from sklearn.metrics import accuracy_score, f1_score, confusion_matrix"
   ]
  },
  {
   "cell_type": "code",
   "execution_count": 236,
   "id": "aa2b4edd",
   "metadata": {},
   "outputs": [],
   "source": [
    "# splitting data\n",
    "X = train_set.drop(['item_cnt_month'], axis=1)\n",
    "y_train = train_set['item_cnt_month']\n",
    "X_test = test.drop(['item_cnt_month'], axis=1)"
   ]
  },
  {
   "cell_type": "code",
   "execution_count": 243,
   "id": "3e3fd01f",
   "metadata": {},
   "outputs": [],
   "source": [
    "X_train = train_set.drop(['item_cnt_month'], axis=1)\n",
    "y_train = train_set['item_cnt_month']\n",
    "x_test = test.drop(['item_cnt_month'], axis=1)"
   ]
  },
  {
   "cell_type": "raw",
   "id": "383bac27",
   "metadata": {},
   "source": [
    "X_train, X_test, y_train, y_test = train_test_split(X, y, test_size = 0.3, random_state=9 )\n",
    "\n",
    "X_train.shape, X_test.shape, y_train.shape, y_test.shape"
   ]
  },
  {
   "cell_type": "raw",
   "id": "cb6fd0a3",
   "metadata": {},
   "source": [
    "# prepare models\n",
    "#function for all the models\n",
    "def modeltraining():\n",
    "    \n",
    "    models = []\n",
    "    models.append(('LR', LogisticRegression()))\n",
    "    models.append(('RF', RandomForestClassifier()))\n",
    "    models.append(('KNN', KNeighborsClassifier()))\n",
    "    models.append(('DTC', DecisionTreeClassifier()))\n",
    "    models.append(('LDA', LinearDiscriminantAnalysis()))\n",
    "    models.append(('GB', GradientBoostingClassifier()))\n",
    "    models.append(('ADA', AdaBoostClassifier()))\n",
    "    models.append(('Naive Bayes', GaussianNB()))\n",
    "    models.append(('Ex_Trees',ExtraTreesClassifier()))\n",
    "    models.append(('SVM', SVC()))\n",
    "    models.append(('XGB', XGBClassifier()))\n",
    "    results = []\n",
    "    names = []\n",
    "    scoring = 'accuracy'\n",
    "    for name, model in models:\n",
    "        kfold = KFold(n_splits=10, random_state=None)\n",
    "        cv_results = cross_val_score(model, X, y, cv=kfold, scoring=scoring)\n",
    "        results.append(cv_results)\n",
    "        names.append(name)\n",
    "        msg = \"%s: %f (%f)\" % (name, cv_results.mean(), cv_results.std())\n",
    "        print(msg)\n",
    "    # boxplot algorithm comparison\n",
    "    fig = plt.figure()\n",
    "    fig.suptitle('Algorithm Comparison')\n",
    "    ax = fig.add_subplot(111)\n",
    "    plt.boxplot(results)\n",
    "    ax.set_xticklabels(names)\n",
    "    plt.show()\n",
    "    \n",
    "modeltraining()"
   ]
  },
  {
   "cell_type": "code",
   "execution_count": null,
   "id": "8db13d08",
   "metadata": {},
   "outputs": [],
   "source": []
  },
  {
   "cell_type": "code",
   "execution_count": null,
   "id": "f2059609",
   "metadata": {},
   "outputs": [],
   "source": []
  },
  {
   "cell_type": "code",
   "execution_count": null,
   "id": "98286759",
   "metadata": {},
   "outputs": [],
   "source": [
    "from tensorflow.keras.models import Sequential\n",
    "from tensorflow.keras.layers import InputLayer, Dense, BatchNormalization\n",
    "from tensorflow.keras.callbacks import ModelCheckpoint"
   ]
  },
  {
   "cell_type": "raw",
   "id": "f79ad8fe",
   "metadata": {},
   "source": [
    "# Train a shallow neural network\n",
    "shallow_nn = Sequential()\n",
    "shallow_nn.add(InputLayer((X_train.shape[1],)))\n",
    "shallow_nn.add(Dense(2, 'relu'))\n",
    "shallow_nn.add(BatchNormalization())\n",
    "shallow_nn.add(Dense(1, 'sigmoid')) #sigmoid means a value between 0 and 1\n",
    "\n",
    "# specify model checkpoint\n",
    "checkpoint = ModelCheckpoint('shallow_nn', save_best_only=True) # saving in a folder called shallow_nn which we can access at any time\n",
    "shallow_nn.compile(optimizer='adam', loss='binary_crossentropy', metrics=['accuracy']) #loss - binary classification"
   ]
  },
  {
   "cell_type": "raw",
   "id": "acf3d195",
   "metadata": {},
   "source": [
    "shallow_nn.summary()"
   ]
  },
  {
   "cell_type": "raw",
   "id": "8d48fdde",
   "metadata": {},
   "source": [
    "shallow_nn.fit(x_train, y_train, epochs=5, callbacks=checkpoint)"
   ]
  },
  {
   "cell_type": "code",
   "execution_count": null,
   "id": "18fca37b",
   "metadata": {},
   "outputs": [],
   "source": []
  },
  {
   "cell_type": "markdown",
   "id": "770124d9",
   "metadata": {},
   "source": [
    "#### Gradient boosting"
   ]
  },
  {
   "cell_type": "code",
   "execution_count": 241,
   "id": "f2ef0e04",
   "metadata": {},
   "outputs": [
    {
     "name": "stdout",
     "output_type": "stream",
     "text": [
      "R-squared of the training: 0.666\n"
     ]
    }
   ],
   "source": [
    "GBReg = GradientBoostingRegressor(n_estimators=200, max_depth=11, random_state=100).fit(X_train, y_train)\n",
    "print('R-squared of the training: {:.3f}'.format(GBReg.score(X_train, y_train)))"
   ]
  },
  {
   "cell_type": "code",
   "execution_count": 247,
   "id": "4984517f",
   "metadata": {},
   "outputs": [
    {
     "name": "stdout",
     "output_type": "stream",
     "text": [
      "R-squared of the training: 0.000\n"
     ]
    }
   ],
   "source": [
    "LinReg = LinearRegression().fit(X_train, y_train)\n",
    "print('R-squared of the training: {:.3f}'.format(LinReg.score(X_train, y_train)))\n"
   ]
  },
  {
   "cell_type": "code",
   "execution_count": 245,
   "id": "bf847081",
   "metadata": {},
   "outputs": [
    {
     "name": "stdout",
     "output_type": "stream",
     "text": [
      "R-squared of the training: 0.000\n"
     ]
    }
   ],
   "source": [
    "RidgeReg = Ridge().fit(X_train, y_train)\n",
    "print('R-squared of the training: {:.3f}'.format(RidgeReg.score(X_train, y_train)))"
   ]
  },
  {
   "cell_type": "code",
   "execution_count": null,
   "id": "c2824f58",
   "metadata": {},
   "outputs": [],
   "source": []
  },
  {
   "cell_type": "code",
   "execution_count": null,
   "id": "cb39a423",
   "metadata": {},
   "outputs": [],
   "source": []
  },
  {
   "cell_type": "markdown",
   "id": "d44635b6",
   "metadata": {},
   "source": [
    "### LGBMRegressor Model¶"
   ]
  },
  {
   "cell_type": "code",
   "execution_count": 240,
   "id": "6b8f3793",
   "metadata": {},
   "outputs": [
    {
     "data": {
      "text/plain": [
       "LGBMRegressor(colsample_bytree=0.9, learning_rate=0.03, max_depth=6,\n",
       "              min_child_weight=1, min_split_gain=0.0222415, num_leaves=32,\n",
       "              reg_alpha=0.04, reg_lambda=0.073, subsample=0.9)"
      ]
     },
     "execution_count": 240,
     "metadata": {},
     "output_type": "execute_result"
    }
   ],
   "source": [
    "train_x = train_set.drop(['item_cnt_month'], axis=1)\n",
    "train_y = train_set['item_cnt_month']\n",
    "test_x = test.drop(['item_cnt_month'], axis=1)\n",
    "model_lgb = LGBMRegressor(colsample_bytree=0.9, learning_rate=0.03, max_depth=6,\n",
    "              min_child_weight=1, min_split_gain=0.0222415, n_estimators=100,\n",
    "              num_leaves=32, reg_alpha=0.04, reg_lambda=0.073,\n",
    "              subsample=0.9)\n",
    "model_lgb.fit(X_train, y_train)\n"
   ]
  },
  {
   "cell_type": "markdown",
   "id": "1fd7ea79",
   "metadata": {},
   "source": [
    "### Predition"
   ]
  },
  {
   "cell_type": "code",
   "execution_count": null,
   "id": "688e08bd",
   "metadata": {},
   "outputs": [],
   "source": [
    "sales_prediction = GBReg.predict(X_test)\n",
    "sales_prediction"
   ]
  },
  {
   "cell_type": "code",
   "execution_count": null,
   "id": "58bd7347",
   "metadata": {},
   "outputs": [],
   "source": []
  },
  {
   "cell_type": "markdown",
   "id": "2c6d1436",
   "metadata": {},
   "source": [
    "### Submission"
   ]
  },
  {
   "cell_type": "code",
   "execution_count": null,
   "id": "b791fef7",
   "metadata": {},
   "outputs": [],
   "source": [
    "sales_predict_submission = pd.DataFrame({'ID':X_test.index,'item_cnt_month':sales_prediction})"
   ]
  },
  {
   "cell_type": "code",
   "execution_count": null,
   "id": "73ae3b01",
   "metadata": {},
   "outputs": [],
   "source": [
    "sales_predict_submission"
   ]
  },
  {
   "cell_type": "code",
   "execution_count": null,
   "id": "b3c19cf2",
   "metadata": {},
   "outputs": [],
   "source": [
    " sales_predict_submission.to_csv('./fsubmission.csv', index= False, header= 1)"
   ]
  },
  {
   "cell_type": "code",
   "execution_count": null,
   "id": "6af5165f",
   "metadata": {},
   "outputs": [],
   "source": []
  }
 ],
 "metadata": {
  "kernelspec": {
   "display_name": "Python 3 (ipykernel)",
   "language": "python",
   "name": "python3"
  },
  "language_info": {
   "codemirror_mode": {
    "name": "ipython",
    "version": 3
   },
   "file_extension": ".py",
   "mimetype": "text/x-python",
   "name": "python",
   "nbconvert_exporter": "python",
   "pygments_lexer": "ipython3",
   "version": "3.9.7"
  }
 },
 "nbformat": 4,
 "nbformat_minor": 5
}
